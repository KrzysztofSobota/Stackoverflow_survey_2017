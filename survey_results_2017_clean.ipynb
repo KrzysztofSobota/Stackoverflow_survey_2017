{
 "cells": [
  {
   "cell_type": "markdown",
   "metadata": {},
   "source": [
    "# The task is divided on 2 part:\n",
    "- ## compare how parameters like: *country*, *professional*, *education* (formal and non-formal), *IT skill* and *work experience* impact on salary, \n",
    "- ## predict future salary for people whose salary value in `'NaN'`.\n",
    "\n",
    "### Because schema has big number of different kind of questions (some of them are not connected with IT) not every columns are needed to make a job done."
   ]
  },
  {
   "cell_type": "code",
   "execution_count": 1,
   "metadata": {},
   "outputs": [],
   "source": [
    "import pandas as pd\n",
    "import numpy as np"
   ]
  },
  {
   "cell_type": "markdown",
   "metadata": {},
   "source": [
    "### Open new CSV file as ***'df_answers'***  DataFrame"
   ]
  },
  {
   "cell_type": "code",
   "execution_count": 2,
   "metadata": {
    "tags": []
   },
   "outputs": [
    {
     "data": {
      "text/html": [
       "<div>\n",
       "<style scoped>\n",
       "    .dataframe tbody tr th:only-of-type {\n",
       "        vertical-align: middle;\n",
       "    }\n",
       "\n",
       "    .dataframe tbody tr th {\n",
       "        vertical-align: top;\n",
       "    }\n",
       "\n",
       "    .dataframe thead th {\n",
       "        text-align: right;\n",
       "    }\n",
       "</style>\n",
       "<table border=\"1\" class=\"dataframe\">\n",
       "  <thead>\n",
       "    <tr style=\"text-align: right;\">\n",
       "      <th></th>\n",
       "      <th>Professional</th>\n",
       "      <th>ProgramHobby</th>\n",
       "      <th>Country</th>\n",
       "      <th>University</th>\n",
       "      <th>EmploymentStatus</th>\n",
       "      <th>FormalEducation</th>\n",
       "      <th>MajorUndergrad</th>\n",
       "      <th>HomeRemote</th>\n",
       "      <th>CompanySize</th>\n",
       "      <th>CompanyType</th>\n",
       "      <th>YearsProgram</th>\n",
       "      <th>YearsCodedJob</th>\n",
       "      <th>CareerSatisfaction</th>\n",
       "      <th>JobSatisfaction</th>\n",
       "      <th>Gender</th>\n",
       "      <th>Race</th>\n",
       "      <th>DeveloperType</th>\n",
       "      <th>HaveWorkedLanguage</th>\n",
       "      <th>Currency</th>\n",
       "      <th>Salary</th>\n",
       "    </tr>\n",
       "  </thead>\n",
       "  <tbody>\n",
       "    <tr>\n",
       "      <th>0</th>\n",
       "      <td>Student</td>\n",
       "      <td>Yes, both</td>\n",
       "      <td>United States</td>\n",
       "      <td>No</td>\n",
       "      <td>Not employed, and not looking for work</td>\n",
       "      <td>Secondary school</td>\n",
       "      <td>NaN</td>\n",
       "      <td>NaN</td>\n",
       "      <td>NaN</td>\n",
       "      <td>NaN</td>\n",
       "      <td>2 to 3 years</td>\n",
       "      <td>NaN</td>\n",
       "      <td>NaN</td>\n",
       "      <td>NaN</td>\n",
       "      <td>Male</td>\n",
       "      <td>White or of European descent</td>\n",
       "      <td>NaN</td>\n",
       "      <td>Swift</td>\n",
       "      <td>NaN</td>\n",
       "      <td>NaN</td>\n",
       "    </tr>\n",
       "    <tr>\n",
       "      <th>1</th>\n",
       "      <td>Student</td>\n",
       "      <td>Yes, both</td>\n",
       "      <td>United Kingdom</td>\n",
       "      <td>Yes, full-time</td>\n",
       "      <td>Employed part-time</td>\n",
       "      <td>Some college/university study without earning ...</td>\n",
       "      <td>Computer science or software engineering</td>\n",
       "      <td>More than half, but not all, the time</td>\n",
       "      <td>20 to 99 employees</td>\n",
       "      <td>Privately-held limited company, not in startup...</td>\n",
       "      <td>9 to 10 years</td>\n",
       "      <td>NaN</td>\n",
       "      <td>NaN</td>\n",
       "      <td>NaN</td>\n",
       "      <td>Male</td>\n",
       "      <td>White or of European descent</td>\n",
       "      <td>NaN</td>\n",
       "      <td>JavaScript; Python; Ruby; SQL</td>\n",
       "      <td>British pounds sterling (£)</td>\n",
       "      <td>NaN</td>\n",
       "    </tr>\n",
       "    <tr>\n",
       "      <th>2</th>\n",
       "      <td>Professional developer</td>\n",
       "      <td>Yes, both</td>\n",
       "      <td>United Kingdom</td>\n",
       "      <td>No</td>\n",
       "      <td>Employed full-time</td>\n",
       "      <td>Bachelor's degree</td>\n",
       "      <td>Computer science or software engineering</td>\n",
       "      <td>Less than half the time, but at least one day ...</td>\n",
       "      <td>10,000 or more employees</td>\n",
       "      <td>Publicly-traded corporation</td>\n",
       "      <td>20 or more years</td>\n",
       "      <td>20 or more years</td>\n",
       "      <td>8.0</td>\n",
       "      <td>9.0</td>\n",
       "      <td>Male</td>\n",
       "      <td>White or of European descent</td>\n",
       "      <td>Other</td>\n",
       "      <td>Java; PHP; Python</td>\n",
       "      <td>British pounds sterling (£)</td>\n",
       "      <td>113750.0</td>\n",
       "    </tr>\n",
       "    <tr>\n",
       "      <th>3</th>\n",
       "      <td>Professional non-developer who sometimes write...</td>\n",
       "      <td>Yes, both</td>\n",
       "      <td>United States</td>\n",
       "      <td>No</td>\n",
       "      <td>Employed full-time</td>\n",
       "      <td>Doctoral degree</td>\n",
       "      <td>A non-computer-focused engineering discipline</td>\n",
       "      <td>Less than half the time, but at least one day ...</td>\n",
       "      <td>10,000 or more employees</td>\n",
       "      <td>Non-profit/non-governmental organization or pr...</td>\n",
       "      <td>14 to 15 years</td>\n",
       "      <td>9 to 10 years</td>\n",
       "      <td>6.0</td>\n",
       "      <td>3.0</td>\n",
       "      <td>Male</td>\n",
       "      <td>White or of European descent</td>\n",
       "      <td>NaN</td>\n",
       "      <td>Matlab; Python; R; SQL</td>\n",
       "      <td>NaN</td>\n",
       "      <td>NaN</td>\n",
       "    </tr>\n",
       "    <tr>\n",
       "      <th>4</th>\n",
       "      <td>Professional developer</td>\n",
       "      <td>Yes, I program as a hobby</td>\n",
       "      <td>Switzerland</td>\n",
       "      <td>No</td>\n",
       "      <td>Employed full-time</td>\n",
       "      <td>Master's degree</td>\n",
       "      <td>Computer science or software engineering</td>\n",
       "      <td>Never</td>\n",
       "      <td>10 to 19 employees</td>\n",
       "      <td>Privately-held limited company, not in startup...</td>\n",
       "      <td>20 or more years</td>\n",
       "      <td>10 to 11 years</td>\n",
       "      <td>6.0</td>\n",
       "      <td>8.0</td>\n",
       "      <td>NaN</td>\n",
       "      <td>NaN</td>\n",
       "      <td>Mobile developer; Graphics programming; Deskto...</td>\n",
       "      <td>NaN</td>\n",
       "      <td>NaN</td>\n",
       "      <td>NaN</td>\n",
       "    </tr>\n",
       "  </tbody>\n",
       "</table>\n",
       "</div>"
      ],
      "text/plain": [
       "                                        Professional  \\\n",
       "0                                            Student   \n",
       "1                                            Student   \n",
       "2                             Professional developer   \n",
       "3  Professional non-developer who sometimes write...   \n",
       "4                             Professional developer   \n",
       "\n",
       "                ProgramHobby         Country      University  \\\n",
       "0                  Yes, both   United States              No   \n",
       "1                  Yes, both  United Kingdom  Yes, full-time   \n",
       "2                  Yes, both  United Kingdom              No   \n",
       "3                  Yes, both   United States              No   \n",
       "4  Yes, I program as a hobby     Switzerland              No   \n",
       "\n",
       "                         EmploymentStatus  \\\n",
       "0  Not employed, and not looking for work   \n",
       "1                      Employed part-time   \n",
       "2                      Employed full-time   \n",
       "3                      Employed full-time   \n",
       "4                      Employed full-time   \n",
       "\n",
       "                                     FormalEducation  \\\n",
       "0                                   Secondary school   \n",
       "1  Some college/university study without earning ...   \n",
       "2                                  Bachelor's degree   \n",
       "3                                    Doctoral degree   \n",
       "4                                    Master's degree   \n",
       "\n",
       "                                  MajorUndergrad  \\\n",
       "0                                            NaN   \n",
       "1       Computer science or software engineering   \n",
       "2       Computer science or software engineering   \n",
       "3  A non-computer-focused engineering discipline   \n",
       "4       Computer science or software engineering   \n",
       "\n",
       "                                          HomeRemote  \\\n",
       "0                                                NaN   \n",
       "1              More than half, but not all, the time   \n",
       "2  Less than half the time, but at least one day ...   \n",
       "3  Less than half the time, but at least one day ...   \n",
       "4                                              Never   \n",
       "\n",
       "                CompanySize  \\\n",
       "0                       NaN   \n",
       "1        20 to 99 employees   \n",
       "2  10,000 or more employees   \n",
       "3  10,000 or more employees   \n",
       "4        10 to 19 employees   \n",
       "\n",
       "                                         CompanyType      YearsProgram  \\\n",
       "0                                                NaN      2 to 3 years   \n",
       "1  Privately-held limited company, not in startup...     9 to 10 years   \n",
       "2                        Publicly-traded corporation  20 or more years   \n",
       "3  Non-profit/non-governmental organization or pr...    14 to 15 years   \n",
       "4  Privately-held limited company, not in startup...  20 or more years   \n",
       "\n",
       "      YearsCodedJob  CareerSatisfaction  JobSatisfaction Gender  \\\n",
       "0               NaN                 NaN              NaN   Male   \n",
       "1               NaN                 NaN              NaN   Male   \n",
       "2  20 or more years                 8.0              9.0   Male   \n",
       "3     9 to 10 years                 6.0              3.0   Male   \n",
       "4    10 to 11 years                 6.0              8.0    NaN   \n",
       "\n",
       "                           Race  \\\n",
       "0  White or of European descent   \n",
       "1  White or of European descent   \n",
       "2  White or of European descent   \n",
       "3  White or of European descent   \n",
       "4                           NaN   \n",
       "\n",
       "                                       DeveloperType  \\\n",
       "0                                                NaN   \n",
       "1                                                NaN   \n",
       "2                                              Other   \n",
       "3                                                NaN   \n",
       "4  Mobile developer; Graphics programming; Deskto...   \n",
       "\n",
       "              HaveWorkedLanguage                     Currency    Salary  \n",
       "0                          Swift                          NaN       NaN  \n",
       "1  JavaScript; Python; Ruby; SQL  British pounds sterling (£)       NaN  \n",
       "2              Java; PHP; Python  British pounds sterling (£)  113750.0  \n",
       "3         Matlab; Python; R; SQL                          NaN       NaN  \n",
       "4                            NaN                          NaN       NaN  "
      ]
     },
     "execution_count": 2,
     "metadata": {},
     "output_type": "execute_result"
    }
   ],
   "source": [
    "df_answers = pd.read_csv('survey_results_public_clean.csv', index_col = False)\n",
    "df_answers.head()"
   ]
  },
  {
   "cell_type": "markdown",
   "metadata": {},
   "source": [
    "### Info about our new dataset"
   ]
  },
  {
   "cell_type": "code",
   "execution_count": 3,
   "metadata": {
    "scrolled": true,
    "tags": []
   },
   "outputs": [
    {
     "name": "stdout",
     "output_type": "stream",
     "text": [
      "<class 'pandas.core.frame.DataFrame'>\n",
      "RangeIndex: 51392 entries, 0 to 51391\n",
      "Data columns (total 20 columns):\n",
      " #   Column              Non-Null Count  Dtype  \n",
      "---  ------              --------------  -----  \n",
      " 0   Professional        51392 non-null  object \n",
      " 1   ProgramHobby        51392 non-null  object \n",
      " 2   Country             51392 non-null  object \n",
      " 3   University          51392 non-null  object \n",
      " 4   EmploymentStatus    51392 non-null  object \n",
      " 5   FormalEducation     51392 non-null  object \n",
      " 6   MajorUndergrad      42841 non-null  object \n",
      " 7   HomeRemote          44008 non-null  object \n",
      " 8   CompanySize         38922 non-null  object \n",
      " 9   CompanyType         38823 non-null  object \n",
      " 10  YearsProgram        51145 non-null  object \n",
      " 11  YearsCodedJob       40890 non-null  object \n",
      " 12  CareerSatisfaction  42695 non-null  float64\n",
      " 13  JobSatisfaction     40376 non-null  float64\n",
      " 14  Gender              35047 non-null  object \n",
      " 15  Race                33033 non-null  object \n",
      " 16  DeveloperType       36125 non-null  object \n",
      " 17  HaveWorkedLanguage  36625 non-null  object \n",
      " 18  Currency            21408 non-null  object \n",
      " 19  Salary              12891 non-null  float64\n",
      "dtypes: float64(3), object(17)\n",
      "memory usage: 7.8+ MB\n"
     ]
    }
   ],
   "source": [
    "df_answers.info()"
   ]
  },
  {
   "cell_type": "markdown",
   "metadata": {},
   "source": [
    "***"
   ]
  },
  {
   "cell_type": "markdown",
   "metadata": {},
   "source": [
    "### Let's check how many unique values are in every columns (exclude 'Salary')"
   ]
  },
  {
   "cell_type": "code",
   "execution_count": 4,
   "metadata": {},
   "outputs": [
    {
     "name": "stdout",
     "output_type": "stream",
     "text": [
      "Number of unique values in 'Professional': 5\n",
      "Number of unique values in 'ProgramHobby': 4\n",
      "Number of unique values in 'Country': 201\n",
      "Number of unique values in 'University': 4\n",
      "Number of unique values in 'EmploymentStatus': 7\n",
      "Number of unique values in 'FormalEducation': 9\n",
      "Number of unique values in 'MajorUndergrad': 17\n",
      "Number of unique values in 'HomeRemote': 8\n",
      "Number of unique values in 'CompanySize': 11\n",
      "Number of unique values in 'CompanyType': 12\n",
      "Number of unique values in 'YearsProgram': 22\n",
      "Number of unique values in 'YearsCodedJob': 22\n",
      "Number of unique values in 'CareerSatisfaction': 12\n",
      "Number of unique values in 'JobSatisfaction': 12\n",
      "Number of unique values in 'Gender': 30\n",
      "Number of unique values in 'Race': 98\n",
      "Number of unique values in 'DeveloperType': 1824\n",
      "Number of unique values in 'HaveWorkedLanguage': 8439\n",
      "Number of unique values in 'Currency': 18\n",
      "Sum of all unique values in our columns are: 10755\n",
      "Number of all possible unique values combinations in dataset are: 1032483080631747751811481600 and it is more than 10**27\n"
     ]
    }
   ],
   "source": [
    "def Dataframe_unique_values(df):\n",
    "    '''\n",
    "        Check number of unique values, their sum and total number of combinations in all columns.\n",
    "        This give us some imagination how complex is our data set.\n",
    "        \n",
    "        new_df: DataFrame without 'Salary' column\n",
    "    '''\n",
    "    \n",
    "    # Default values for calculations\n",
    "    multiply, summary = 1, 0\n",
    "    ## Exclude 'Salary' from DataFrame\n",
    "    new_df = df.drop('Salary', axis=1)\n",
    "    \n",
    "    for val in new_df.columns:\n",
    "        unique_num = len(new_df[val].unique())\n",
    "        print(f\"Number of unique values in '{val}': {unique_num}\")\n",
    "        multiply *= unique_num\n",
    "        summary += unique_num\n",
    "    print(f'Sum of all unique values in our columns are: {summary}')\n",
    "    print(f'Number of all possible unique values combinations in dataset are: {multiply} and it is more than 10**{np.log10(float(multiply)):.0f}')\n",
    "    return summary, multiply\n",
    "\n",
    "unique_values_before = Dataframe_unique_values(df_answers)"
   ]
  },
  {
   "cell_type": "markdown",
   "metadata": {},
   "source": [
    "## We have got a big mess, so we must reduce the number of unique values as far as we can."
   ]
  },
  {
   "cell_type": "markdown",
   "metadata": {
    "tags": []
   },
   "source": [
    "### Columns will be checking in the order below:\n",
    "1) 'Country'\n",
    "2) 'Professional', 'ProgramHobby', 'University', 'EmploymentStatus', 'FormalEducation'\n",
    "3) 'MajorUndergrad', 'HomeRemote'\n",
    "4) 'CompanySize', 'CompanyType'\n",
    "5) 'YearsProgram', 'YearsCodedJob'\n",
    "6) 'CareerSatisfaction', 'JobSatisfaction'\n",
    "7) 'Gender'\n",
    "8) 'Race'\n",
    "9) 'DeveloperType'\n",
    "10) 'HaveWorkedLanguage'\n",
    "11) 'Currency'"
   ]
  },
  {
   "cell_type": "markdown",
   "metadata": {},
   "source": [
    "### List of unique values in columns"
   ]
  },
  {
   "cell_type": "code",
   "execution_count": 5,
   "metadata": {},
   "outputs": [],
   "source": [
    "def Unique_values_list(*cols):\n",
    "    '''\n",
    "        Listing first n-th unique values (names and quantity) in every columns.\n",
    "        \n",
    "        n: upper limit of printed unique values on the screen per columns\n",
    "    '''\n",
    "    \n",
    "    n = 25\n",
    "    \n",
    "    for _ in list(cols):\n",
    "        col_unique_names = df_answers[_].value_counts(dropna=False)\n",
    "        unique_numbers = len(col_unique_names)\n",
    "    \n",
    "        if unique_numbers > n:\n",
    "            print(f\"Number of unique values in '{_}': {unique_numbers}\\\n",
    "            \\n\\nFirst {n} unique values:\\n{col_unique_names[:n]}\\n\\n\")\n",
    "        else:\n",
    "            print(f\"Number of unique values in '{_}': {unique_numbers}\\\n",
    "            \\n\\nAll unique values:\\n{col_unique_names}\\n\\n\")"
   ]
  },
  {
   "cell_type": "markdown",
   "metadata": {},
   "source": [
    "#### **1) 'Country'**"
   ]
  },
  {
   "cell_type": "code",
   "execution_count": 6,
   "metadata": {
    "tags": []
   },
   "outputs": [
    {
     "name": "stdout",
     "output_type": "stream",
     "text": [
      "Number of unique values in 'Country': 201            \n",
      "\n",
      "First 25 unique values:\n",
      "United States         11455\n",
      "India                  5197\n",
      "United Kingdom         4395\n",
      "Germany                4143\n",
      "Canada                 2233\n",
      "France                 1740\n",
      "Poland                 1290\n",
      "Australia               913\n",
      "Russian Federation      873\n",
      "Spain                   864\n",
      "Netherlands             855\n",
      "Italy                   781\n",
      "Brazil                  777\n",
      "Sweden                  611\n",
      "Switzerland             595\n",
      "Israel                  575\n",
      "Romania                 561\n",
      "Iran                    507\n",
      "Austria                 477\n",
      "Pakistan                454\n",
      "Czech Republic          411\n",
      "Belgium                 404\n",
      "South Africa            380\n",
      "Turkey                  363\n",
      "Ukraine                 356\n",
      "Name: Country, dtype: int64\n",
      "\n",
      "\n"
     ]
    }
   ],
   "source": [
    "Unique_values_list('Country')"
   ]
  },
  {
   "cell_type": "markdown",
   "metadata": {},
   "source": [
    "#### Because many world countries' in this Series are probably the minority (small number of responders),\n",
    "#### we will take countries with at least 50 representants - that is the simplest method of detection and removing outliers."
   ]
  },
  {
   "cell_type": "code",
   "execution_count": 7,
   "metadata": {
    "scrolled": true,
    "tags": []
   },
   "outputs": [
    {
     "name": "stdout",
     "output_type": "stream",
     "text": [
      "Number of the filtered countries: 81\n",
      "\n",
      "Names of the filtered countries: \n",
      "['United States' 'United Kingdom' 'Switzerland' 'New Zealand' 'Poland'\n",
      " 'Colombia' 'France' 'Canada' 'Germany' 'Greece' 'Brazil' 'Israel' 'Italy'\n",
      " 'Belgium' 'India' 'Chile' 'Croatia' 'Argentina' 'Netherlands' 'Denmark'\n",
      " 'Ukraine' 'Sri Lanka' 'Malaysia' 'Finland' 'Turkey' 'Spain' 'Austria'\n",
      " 'Mexico' 'Russian Federation' 'Bulgaria' 'Uruguay' 'Estonia' 'Iran'\n",
      " 'Bangladesh' 'Sweden' 'Lithuania' 'Romania' 'Costa Rica' 'Serbia'\n",
      " 'Slovenia' 'United Arab Emirates' 'Tunisia' 'Kenya' 'Norway'\n",
      " 'Dominican Republic' 'Belarus' 'Portugal' 'Czech Republic' 'Albania'\n",
      " 'I prefer not to say' 'South Africa' 'Moldavia' 'Ireland' 'Nepal'\n",
      " 'Pakistan' 'Slovak Republic' 'Hungary' 'Egypt' 'Australia' 'Japan'\n",
      " 'South Korea' 'Vietnam' 'Saudi Arabia' 'Macedonia' 'Bosnia-Herzegovina'\n",
      " 'Indonesia' 'Nigeria' 'Peru' 'Morocco' 'Armenia' 'Lebanon' 'China'\n",
      " 'Latvia' 'Singapore' 'Thailand' 'Philippines' 'Hong Kong' 'Taiwan'\n",
      " 'Afghanistan' 'Ghana' 'Venezuela']\n"
     ]
    }
   ],
   "source": [
    "countries_names = df_answers.groupby('Country').filter(lambda x: len(x) >= 50)['Country'].unique()\n",
    "\n",
    "print(f\"Number of the filtered countries: {len(countries_names)}\\n\")\n",
    "print(f\"Names of the filtered countries: \\n{countries_names}\")"
   ]
  },
  {
   "cell_type": "markdown",
   "metadata": {},
   "source": [
    "#### After making simple filtering we limit our countries to 81 positions (it is only 40% of total),\n",
    "#### but we can also remove 'I prefer not to say' value which is useless and that will be made in the next step."
   ]
  },
  {
   "cell_type": "code",
   "execution_count": 8,
   "metadata": {
    "tags": []
   },
   "outputs": [
    {
     "name": "stdout",
     "output_type": "stream",
     "text": [
      "<class 'pandas.core.frame.DataFrame'>\n",
      "RangeIndex: 50048 entries, 0 to 50047\n",
      "Data columns (total 20 columns):\n",
      " #   Column              Non-Null Count  Dtype  \n",
      "---  ------              --------------  -----  \n",
      " 0   Professional        50048 non-null  object \n",
      " 1   ProgramHobby        50048 non-null  object \n",
      " 2   Country             50048 non-null  object \n",
      " 3   University          50048 non-null  object \n",
      " 4   EmploymentStatus    50048 non-null  object \n",
      " 5   FormalEducation     50048 non-null  object \n",
      " 6   MajorUndergrad      41807 non-null  object \n",
      " 7   HomeRemote          43004 non-null  object \n",
      " 8   CompanySize         38109 non-null  object \n",
      " 9   CompanyType         38015 non-null  object \n",
      " 10  YearsProgram        49825 non-null  object \n",
      " 11  YearsCodedJob       39961 non-null  object \n",
      " 12  CareerSatisfaction  41691 non-null  float64\n",
      " 13  JobSatisfaction     39500 non-null  float64\n",
      " 14  Gender              34324 non-null  object \n",
      " 15  Race                32380 non-null  object \n",
      " 16  DeveloperType       35363 non-null  object \n",
      " 17  HaveWorkedLanguage  35846 non-null  object \n",
      " 18  Currency            21079 non-null  object \n",
      " 19  Salary              12759 non-null  float64\n",
      "dtypes: float64(3), object(17)\n",
      "memory usage: 7.6+ MB\n"
     ]
    }
   ],
   "source": [
    "df_answers = df_answers[(df_answers['Country'].isin(countries_names)) & \n",
    "                        (~df_answers['Country'].isin(['I prefer not to say']))].reset_index(drop=True)\n",
    "df_answers.info()"
   ]
  },
  {
   "cell_type": "markdown",
   "metadata": {},
   "source": [
    "#### **2) 'Professional', 'ProgramHobby', 'University', 'EmploymentStatus', 'FormalEducation'**"
   ]
  },
  {
   "cell_type": "code",
   "execution_count": 9,
   "metadata": {
    "tags": []
   },
   "outputs": [
    {
     "name": "stdout",
     "output_type": "stream",
     "text": [
      "Number of unique values in 'Professional': 5            \n",
      "\n",
      "All unique values:\n",
      "Professional developer                                  35368\n",
      "Student                                                  7903\n",
      "Professional non-developer who sometimes writes code     4955\n",
      "Used to be a professional developer                       951\n",
      "None of these                                             871\n",
      "Name: Professional, dtype: int64\n",
      "\n",
      "\n"
     ]
    }
   ],
   "source": [
    "Unique_values_list('Professional')"
   ]
  },
  {
   "cell_type": "code",
   "execution_count": 10,
   "metadata": {},
   "outputs": [],
   "source": [
    "df_answers['Professional'] = df_answers['Professional'].replace('Used to be a professional developer', 'Professional developer')"
   ]
  },
  {
   "cell_type": "code",
   "execution_count": 11,
   "metadata": {
    "tags": []
   },
   "outputs": [
    {
     "name": "stdout",
     "output_type": "stream",
     "text": [
      "Number of unique values in 'ProgramHobby': 4            \n",
      "\n",
      "All unique values:\n",
      "Yes, I program as a hobby                    24193\n",
      "Yes, both                                    13421\n",
      "No                                            9505\n",
      "Yes, I contribute to open source projects     2929\n",
      "Name: ProgramHobby, dtype: int64\n",
      "\n",
      "\n"
     ]
    }
   ],
   "source": [
    "Unique_values_list('ProgramHobby')"
   ]
  },
  {
   "cell_type": "code",
   "execution_count": 12,
   "metadata": {},
   "outputs": [],
   "source": [
    "df_answers['ProgramHobby'] = df_answers['ProgramHobby'].replace(['Yes, both', 'Yes, I program as a hobby', 'Yes, I contribute to open source projects'], 'Yes')"
   ]
  },
  {
   "cell_type": "code",
   "execution_count": 13,
   "metadata": {
    "tags": []
   },
   "outputs": [
    {
     "name": "stdout",
     "output_type": "stream",
     "text": [
      "Number of unique values in 'University': 4            \n",
      "\n",
      "All unique values:\n",
      "No                     36742\n",
      "Yes, full-time          9037\n",
      "Yes, part-time          3218\n",
      "I prefer not to say     1051\n",
      "Name: University, dtype: int64\n",
      "\n",
      "\n"
     ]
    }
   ],
   "source": [
    "Unique_values_list('University')"
   ]
  },
  {
   "cell_type": "code",
   "execution_count": 14,
   "metadata": {},
   "outputs": [],
   "source": [
    "df_answers['University'] = df_answers['University'].replace('I prefer not to say', 'No')"
   ]
  },
  {
   "cell_type": "code",
   "execution_count": 15,
   "metadata": {
    "tags": []
   },
   "outputs": [
    {
     "name": "stdout",
     "output_type": "stream",
     "text": [
      "Number of unique values in 'EmploymentStatus': 7            \n",
      "\n",
      "All unique values:\n",
      "Employed full-time                                      35399\n",
      "Independent contractor, freelancer, or self-employed     5035\n",
      "Employed part-time                                       3099\n",
      "Not employed, and not looking for work                   2698\n",
      "Not employed, but looking for work                       2672\n",
      "I prefer not to say                                       994\n",
      "Retired                                                   151\n",
      "Name: EmploymentStatus, dtype: int64\n",
      "\n",
      "\n"
     ]
    }
   ],
   "source": [
    "Unique_values_list('EmploymentStatus')"
   ]
  },
  {
   "cell_type": "code",
   "execution_count": 16,
   "metadata": {},
   "outputs": [],
   "source": [
    "df_answers['EmploymentStatus'] = df_answers['EmploymentStatus'].replace(['I prefer not to say', 'Retired'], 'Not employed, and not looking for work')"
   ]
  },
  {
   "cell_type": "code",
   "execution_count": 17,
   "metadata": {
    "tags": []
   },
   "outputs": [
    {
     "name": "stdout",
     "output_type": "stream",
     "text": [
      "Number of unique values in 'FormalEducation': 9            \n",
      "\n",
      "All unique values:\n",
      "Bachelor's degree                                                    21031\n",
      "Master's degree                                                      10939\n",
      "Some college/university study without earning a bachelor's degree     7932\n",
      "Secondary school                                                      5752\n",
      "Doctoral degree                                                       1277\n",
      "I prefer not to answer                                                1032\n",
      "Primary/elementary school                                             1001\n",
      "Professional degree                                                    686\n",
      "I never completed any formal education                                 398\n",
      "Name: FormalEducation, dtype: int64\n",
      "\n",
      "\n"
     ]
    }
   ],
   "source": [
    "Unique_values_list('FormalEducation')"
   ]
  },
  {
   "cell_type": "code",
   "execution_count": 18,
   "metadata": {},
   "outputs": [],
   "source": [
    "df_answers['FormalEducation'] = df_answers['FormalEducation'].replace('I prefer not to answer', 'I never completed any formal education')\n",
    "df_answers['FormalEducation'] = df_answers['FormalEducation'].replace(\"Some college/university study without earning a bachelor's degree\", 'Secondary school')"
   ]
  },
  {
   "cell_type": "markdown",
   "metadata": {},
   "source": [
    "#### How does it look like after modyfications?"
   ]
  },
  {
   "cell_type": "code",
   "execution_count": 19,
   "metadata": {
    "tags": []
   },
   "outputs": [
    {
     "name": "stdout",
     "output_type": "stream",
     "text": [
      "Number of unique values in 'Professional': 4            \n",
      "\n",
      "All unique values:\n",
      "Professional developer                                  36319\n",
      "Student                                                  7903\n",
      "Professional non-developer who sometimes writes code     4955\n",
      "None of these                                             871\n",
      "Name: Professional, dtype: int64\n",
      "\n",
      "\n",
      "Number of unique values in 'ProgramHobby': 2            \n",
      "\n",
      "All unique values:\n",
      "Yes    40543\n",
      "No      9505\n",
      "Name: ProgramHobby, dtype: int64\n",
      "\n",
      "\n",
      "Number of unique values in 'University': 3            \n",
      "\n",
      "All unique values:\n",
      "No                37793\n",
      "Yes, full-time     9037\n",
      "Yes, part-time     3218\n",
      "Name: University, dtype: int64\n",
      "\n",
      "\n",
      "Number of unique values in 'EmploymentStatus': 5            \n",
      "\n",
      "All unique values:\n",
      "Employed full-time                                      35399\n",
      "Independent contractor, freelancer, or self-employed     5035\n",
      "Not employed, and not looking for work                   3843\n",
      "Employed part-time                                       3099\n",
      "Not employed, but looking for work                       2672\n",
      "Name: EmploymentStatus, dtype: int64\n",
      "\n",
      "\n",
      "Number of unique values in 'FormalEducation': 7            \n",
      "\n",
      "All unique values:\n",
      "Bachelor's degree                         21031\n",
      "Secondary school                          13684\n",
      "Master's degree                           10939\n",
      "I never completed any formal education     1430\n",
      "Doctoral degree                            1277\n",
      "Primary/elementary school                  1001\n",
      "Professional degree                         686\n",
      "Name: FormalEducation, dtype: int64\n",
      "\n",
      "\n"
     ]
    }
   ],
   "source": [
    "Unique_values_list('Professional', 'ProgramHobby', 'University', 'EmploymentStatus', 'FormalEducation')"
   ]
  },
  {
   "cell_type": "markdown",
   "metadata": {},
   "source": [
    "#### **3) 'MajorUndergrad', 'HomeRemote'**"
   ]
  },
  {
   "cell_type": "code",
   "execution_count": 20,
   "metadata": {
    "tags": []
   },
   "outputs": [
    {
     "name": "stdout",
     "output_type": "stream",
     "text": [
      "Number of unique values in 'MajorUndergrad': 17            \n",
      "\n",
      "All unique values:\n",
      "Computer science or software engineering                        20875\n",
      "NaN                                                              8241\n",
      "Computer engineering or electrical/electronics engineering       4269\n",
      "Computer programming or Web development                          3760\n",
      "Information technology, networking, or system administration     2074\n",
      "A natural science                                                1840\n",
      "A non-computer-focused engineering discipline                    1762\n",
      "Mathematics or statistics                                        1618\n",
      "Something else                                                   1025\n",
      "A humanities discipline                                           891\n",
      "A business discipline                                             884\n",
      "Fine arts or performing arts                                      639\n",
      "Management information systems                                    630\n",
      "A social science                                                  624\n",
      "I never declared a major                                          580\n",
      "Psychology                                                        207\n",
      "A health science                                                  129\n",
      "Name: MajorUndergrad, dtype: int64\n",
      "\n",
      "\n"
     ]
    }
   ],
   "source": [
    "Unique_values_list('MajorUndergrad')"
   ]
  },
  {
   "cell_type": "markdown",
   "metadata": {},
   "source": [
    "### Take all non-technical discipline into one array and replace it with 'A humanities discipline' option. All missing cells will be filled by 'I never declared a major', because it probably means the same."
   ]
  },
  {
   "cell_type": "code",
   "execution_count": 21,
   "metadata": {},
   "outputs": [],
   "source": [
    "non_tech_array = ['A natural science', 'Fine arts or performing arts',\n",
    "                  'A social science', 'Psychology', 'A health science']\n",
    "\n",
    "df_answers['MajorUndergrad'] = df_answers['MajorUndergrad'].replace(non_tech_array, 'A humanities discipline')\n",
    "df_answers['MajorUndergrad'] = df_answers['MajorUndergrad'].fillna('I never declared a major')"
   ]
  },
  {
   "cell_type": "code",
   "execution_count": 22,
   "metadata": {
    "tags": []
   },
   "outputs": [
    {
     "name": "stdout",
     "output_type": "stream",
     "text": [
      "Number of unique values in 'MajorUndergrad': 11            \n",
      "\n",
      "All unique values:\n",
      "Computer science or software engineering                        20875\n",
      "I never declared a major                                         8821\n",
      "A humanities discipline                                          4330\n",
      "Computer engineering or electrical/electronics engineering       4269\n",
      "Computer programming or Web development                          3760\n",
      "Information technology, networking, or system administration     2074\n",
      "A non-computer-focused engineering discipline                    1762\n",
      "Mathematics or statistics                                        1618\n",
      "Something else                                                   1025\n",
      "A business discipline                                             884\n",
      "Management information systems                                    630\n",
      "Name: MajorUndergrad, dtype: int64\n",
      "\n",
      "\n"
     ]
    }
   ],
   "source": [
    "Unique_values_list('MajorUndergrad')"
   ]
  },
  {
   "cell_type": "code",
   "execution_count": 23,
   "metadata": {
    "tags": []
   },
   "outputs": [
    {
     "name": "stdout",
     "output_type": "stream",
     "text": [
      "Number of unique values in 'HomeRemote': 8            \n",
      "\n",
      "All unique values:\n",
      "A few days each month                                      15186\n",
      "Never                                                      13706\n",
      "NaN                                                         7044\n",
      "All or almost all the time (I'm full-time remote)           4741\n",
      "Less than half the time, but at least one day each week     4045\n",
      "More than half, but not all, the time                       1822\n",
      "It's complicated                                            1813\n",
      "About half the time                                         1691\n",
      "Name: HomeRemote, dtype: int64\n",
      "\n",
      "\n"
     ]
    }
   ],
   "source": [
    "Unique_values_list('HomeRemote')"
   ]
  },
  {
   "cell_type": "code",
   "execution_count": 24,
   "metadata": {},
   "outputs": [],
   "source": [
    "df_answers['HomeRemote'] = df_answers['HomeRemote'].replace('Less than half the time, but at least one day each week', 'A few days each month')\n",
    "df_answers['HomeRemote'] = df_answers['HomeRemote'].replace(\"It's complicated\", 'About half the time')"
   ]
  },
  {
   "cell_type": "markdown",
   "metadata": {},
   "source": [
    "#### It looks fine, but what about missing values (14% of total answers)?\n",
    "#### I propose fill these values proportionally with remaining options using manually written function."
   ]
  },
  {
   "cell_type": "code",
   "execution_count": 25,
   "metadata": {},
   "outputs": [],
   "source": [
    "def Missing_values_multireplacement(col):\n",
    "    '''\n",
    "        Replace missing (NaN) values with strings from the same Series \n",
    "        based on their stats distribution.\n",
    "        \n",
    "        p: frequency of appearing unique values in column\n",
    "    '''\n",
    "    \n",
    "    # Boolean mask\n",
    "    missing = df_answers[col].isnull()\n",
    "    # Counting unique values in columns and display them as decimal fractals\n",
    "    col_stats = df_answers[col].value_counts(normalize=True)\n",
    "    # Final replacing the missing data index by index\n",
    "    df_answers.loc[missing, col] = np.random.choice(col_stats.index, size = len(df_answers[missing]), p = col_stats.values)"
   ]
  },
  {
   "cell_type": "code",
   "execution_count": 26,
   "metadata": {
    "tags": []
   },
   "outputs": [
    {
     "name": "stdout",
     "output_type": "stream",
     "text": [
      "Number of unique values in 'HomeRemote': 5            \n",
      "\n",
      "All unique values:\n",
      "A few days each month                                22444\n",
      "Never                                                15949\n",
      "All or almost all the time (I'm full-time remote)     5513\n",
      "About half the time                                   4035\n",
      "More than half, but not all, the time                 2107\n",
      "Name: HomeRemote, dtype: int64\n",
      "\n",
      "\n"
     ]
    }
   ],
   "source": [
    "Missing_values_multireplacement('HomeRemote')\n",
    "Unique_values_list('HomeRemote')"
   ]
  },
  {
   "cell_type": "markdown",
   "metadata": {},
   "source": [
    "#### **4) 'CompanySize', 'CompanyType'**"
   ]
  },
  {
   "cell_type": "code",
   "execution_count": 27,
   "metadata": {
    "tags": []
   },
   "outputs": [
    {
     "name": "stdout",
     "output_type": "stream",
     "text": [
      "Number of unique values in 'CompanySize': 11            \n",
      "\n",
      "All unique values:\n",
      "NaN                         11939\n",
      "20 to 99 employees           8372\n",
      "100 to 499 employees         7130\n",
      "10,000 or more employees     5638\n",
      "10 to 19 employees           4000\n",
      "1,000 to 4,999 employees     3768\n",
      "Fewer than 10 employees      3686\n",
      "500 to 999 employees         2423\n",
      "5,000 to 9,999 employees     1581\n",
      "I don't know                  851\n",
      "I prefer not to answer        660\n",
      "Name: CompanySize, dtype: int64\n",
      "\n",
      "\n"
     ]
    }
   ],
   "source": [
    "Unique_values_list('CompanySize')"
   ]
  },
  {
   "cell_type": "markdown",
   "metadata": {},
   "source": [
    "### \"I don't know\", 'I prefer not to answer' will be treat as the missing data (they do not give us any useful information).\n",
    "### All company size will be change into format *'x to y employees'"
   ]
  },
  {
   "cell_type": "code",
   "execution_count": 28,
   "metadata": {},
   "outputs": [],
   "source": [
    "df_answers['CompanySize'] = df_answers['CompanySize'].replace([\"I don't know\", 'I prefer not to answer'], np.nan)\n",
    "df_answers['CompanySize'] = df_answers['CompanySize'].replace('Fewer than 10 employees', '1 to 9 employees')"
   ]
  },
  {
   "cell_type": "code",
   "execution_count": 29,
   "metadata": {
    "tags": []
   },
   "outputs": [
    {
     "name": "stdout",
     "output_type": "stream",
     "text": [
      "Number of unique values in 'CompanySize': 9            \n",
      "\n",
      "All unique values:\n",
      "NaN                         13450\n",
      "20 to 99 employees           8372\n",
      "100 to 499 employees         7130\n",
      "10,000 or more employees     5638\n",
      "10 to 19 employees           4000\n",
      "1,000 to 4,999 employees     3768\n",
      "1 to 9 employees             3686\n",
      "500 to 999 employees         2423\n",
      "5,000 to 9,999 employees     1581\n",
      "Name: CompanySize, dtype: int64\n",
      "\n",
      "\n"
     ]
    }
   ],
   "source": [
    "Unique_values_list('CompanySize')"
   ]
  },
  {
   "cell_type": "code",
   "execution_count": 30,
   "metadata": {
    "tags": []
   },
   "outputs": [
    {
     "name": "stdout",
     "output_type": "stream",
     "text": [
      "Number of unique values in 'CompanyType': 12            \n",
      "\n",
      "All unique values:\n",
      "Privately-held limited company, not in startup mode                      16377\n",
      "NaN                                                                      12033\n",
      "Publicly-traded corporation                                               5826\n",
      "I don't know                                                              3171\n",
      "Sole proprietorship or partnership, not in startup mode                   2765\n",
      "Venture-funded startup                                                    2358\n",
      "Government agency or public school/university                             2351\n",
      "I prefer not to answer                                                    1770\n",
      "Pre-series A startup                                                      1257\n",
      "Non-profit/non-governmental organization or private school/university     1189\n",
      "State-owned company                                                        616\n",
      "Something else                                                             335\n",
      "Name: CompanyType, dtype: int64\n",
      "\n",
      "\n"
     ]
    }
   ],
   "source": [
    "Unique_values_list('CompanyType')"
   ]
  },
  {
   "cell_type": "code",
   "execution_count": 31,
   "metadata": {},
   "outputs": [],
   "source": [
    "df_answers['CompanyType'] = df_answers['CompanyType'].replace([\"I don't know\", 'I prefer not to answer'], np.nan)"
   ]
  },
  {
   "cell_type": "code",
   "execution_count": 32,
   "metadata": {
    "tags": []
   },
   "outputs": [
    {
     "name": "stdout",
     "output_type": "stream",
     "text": [
      "Number of unique values in 'CompanyType': 10            \n",
      "\n",
      "All unique values:\n",
      "NaN                                                                      16974\n",
      "Privately-held limited company, not in startup mode                      16377\n",
      "Publicly-traded corporation                                               5826\n",
      "Sole proprietorship or partnership, not in startup mode                   2765\n",
      "Venture-funded startup                                                    2358\n",
      "Government agency or public school/university                             2351\n",
      "Pre-series A startup                                                      1257\n",
      "Non-profit/non-governmental organization or private school/university     1189\n",
      "State-owned company                                                        616\n",
      "Something else                                                             335\n",
      "Name: CompanyType, dtype: int64\n",
      "\n",
      "\n"
     ]
    }
   ],
   "source": [
    "Unique_values_list('CompanyType')"
   ]
  },
  {
   "cell_type": "markdown",
   "metadata": {},
   "source": [
    "### For both columns we run *Missing_values_multireplacement()* function"
   ]
  },
  {
   "cell_type": "code",
   "execution_count": 33,
   "metadata": {
    "tags": []
   },
   "outputs": [],
   "source": [
    "Missing_values_multireplacement('CompanySize')\n",
    "Missing_values_multireplacement('CompanyType')"
   ]
  },
  {
   "cell_type": "code",
   "execution_count": 34,
   "metadata": {
    "tags": []
   },
   "outputs": [
    {
     "name": "stdout",
     "output_type": "stream",
     "text": [
      "Number of unique values in 'CompanySize': 8            \n",
      "\n",
      "All unique values:\n",
      "20 to 99 employees          11531\n",
      "100 to 499 employees         9811\n",
      "10,000 or more employees     7591\n",
      "10 to 19 employees           5479\n",
      "1,000 to 4,999 employees     5113\n",
      "1 to 9 employees             5050\n",
      "500 to 999 employees         3284\n",
      "5,000 to 9,999 employees     2189\n",
      "Name: CompanySize, dtype: int64\n",
      "\n",
      "\n",
      "Number of unique values in 'CompanyType': 9            \n",
      "\n",
      "All unique values:\n",
      "Privately-held limited company, not in startup mode                      24683\n",
      "Publicly-traded corporation                                               8880\n",
      "Sole proprietorship or partnership, not in startup mode                   4207\n",
      "Government agency or public school/university                             3553\n",
      "Venture-funded startup                                                    3548\n",
      "Pre-series A startup                                                      1959\n",
      "Non-profit/non-governmental organization or private school/university     1773\n",
      "State-owned company                                                        945\n",
      "Something else                                                             500\n",
      "Name: CompanyType, dtype: int64\n",
      "\n",
      "\n"
     ]
    }
   ],
   "source": [
    "Unique_values_list('CompanySize', 'CompanyType')"
   ]
  },
  {
   "cell_type": "markdown",
   "metadata": {},
   "source": [
    "#### **5) 'YearsProgram', 'YearsCodedJob'**"
   ]
  },
  {
   "cell_type": "code",
   "execution_count": 35,
   "metadata": {
    "tags": []
   },
   "outputs": [
    {
     "name": "stdout",
     "output_type": "stream",
     "text": [
      "Number of unique values in 'YearsProgram': 22            \n",
      "\n",
      "All unique values:\n",
      "20 or more years    8690\n",
      "4 to 5 years        3738\n",
      "3 to 4 years        3573\n",
      "5 to 6 years        3472\n",
      "2 to 3 years        3123\n",
      "9 to 10 years       3115\n",
      "6 to 7 years        2773\n",
      "1 to 2 years        2665\n",
      "7 to 8 years        2395\n",
      "10 to 11 years      2134\n",
      "14 to 15 years      1972\n",
      "8 to 9 years        1851\n",
      "15 to 16 years      1647\n",
      "Less than a year    1425\n",
      "11 to 12 years      1357\n",
      "12 to 13 years      1271\n",
      "13 to 14 years      1075\n",
      "16 to 17 years      1032\n",
      "19 to 20 years      1010\n",
      "17 to 18 years       871\n",
      "18 to 19 years       636\n",
      "NaN                  223\n",
      "Name: YearsProgram, dtype: int64\n",
      "\n",
      "\n"
     ]
    }
   ],
   "source": [
    "Unique_values_list('YearsProgram')"
   ]
  },
  {
   "cell_type": "markdown",
   "metadata": {},
   "source": [
    "### There are no many missing values in this column, so I decide to delete these rows using dropna() method."
   ]
  },
  {
   "cell_type": "code",
   "execution_count": 36,
   "metadata": {
    "tags": []
   },
   "outputs": [
    {
     "name": "stdout",
     "output_type": "stream",
     "text": [
      "Number of unique values in 'YearsProgram': 21            \n",
      "\n",
      "All unique values:\n",
      "20 or more years    8690\n",
      "4 to 5 years        3738\n",
      "3 to 4 years        3573\n",
      "5 to 6 years        3472\n",
      "2 to 3 years        3123\n",
      "9 to 10 years       3115\n",
      "6 to 7 years        2773\n",
      "1 to 2 years        2665\n",
      "7 to 8 years        2395\n",
      "10 to 11 years      2134\n",
      "14 to 15 years      1972\n",
      "8 to 9 years        1851\n",
      "15 to 16 years      1647\n",
      "0 to 1 year         1425\n",
      "11 to 12 years      1357\n",
      "12 to 13 years      1271\n",
      "13 to 14 years      1075\n",
      "16 to 17 years      1032\n",
      "19 to 20 years      1010\n",
      "17 to 18 years       871\n",
      "18 to 19 years       636\n",
      "Name: YearsProgram, dtype: int64\n",
      "\n",
      "\n"
     ]
    }
   ],
   "source": [
    "df_answers = df_answers.dropna(how='all', subset=['YearsProgram']).reset_index(drop=True)\n",
    "df_answers['YearsProgram'] = df_answers['YearsProgram'].replace('Less than a year', '0 to 1 year')\n",
    "\n",
    "Unique_values_list('YearsProgram')"
   ]
  },
  {
   "cell_type": "code",
   "execution_count": 37,
   "metadata": {
    "tags": []
   },
   "outputs": [
    {
     "name": "stdout",
     "output_type": "stream",
     "text": [
      "Number of unique values in 'YearsCodedJob': 22            \n",
      "\n",
      "All unique values:\n",
      "NaN                 9896\n",
      "1 to 2 years        5144\n",
      "2 to 3 years        4631\n",
      "3 to 4 years        3904\n",
      "4 to 5 years        3303\n",
      "20 or more years    3033\n",
      "Less than a year    2940\n",
      "5 to 6 years        2918\n",
      "9 to 10 years       1918\n",
      "6 to 7 years        1872\n",
      "10 to 11 years      1643\n",
      "7 to 8 years        1594\n",
      "8 to 9 years        1265\n",
      "15 to 16 years       832\n",
      "14 to 15 years       825\n",
      "11 to 12 years       817\n",
      "12 to 13 years       731\n",
      "16 to 17 years       685\n",
      "17 to 18 years       535\n",
      "13 to 14 years       521\n",
      "19 to 20 years       420\n",
      "18 to 19 years       398\n",
      "Name: YearsCodedJob, dtype: int64\n",
      "\n",
      "\n"
     ]
    }
   ],
   "source": [
    "Unique_values_list('YearsCodedJob')"
   ]
  },
  {
   "cell_type": "code",
   "execution_count": 38,
   "metadata": {},
   "outputs": [],
   "source": [
    "df_answers['YearsCodedJob'] = df_answers['YearsCodedJob'].replace('Less than a year', '0 to 1 year')"
   ]
  },
  {
   "cell_type": "markdown",
   "metadata": {},
   "source": [
    "### Using *Missing_values_multireplacement()* function for 'YearsCodedJob' column"
   ]
  },
  {
   "cell_type": "code",
   "execution_count": 39,
   "metadata": {},
   "outputs": [
    {
     "name": "stdout",
     "output_type": "stream",
     "text": [
      "Number of unique values in 'YearsCodedJob': 21            \n",
      "\n",
      "All unique values:\n",
      "1 to 2 years        6411\n",
      "2 to 3 years        5768\n",
      "3 to 4 years        4908\n",
      "4 to 5 years        4158\n",
      "20 or more years    3751\n",
      "0 to 1 year         3673\n",
      "5 to 6 years        3646\n",
      "9 to 10 years       2407\n",
      "6 to 7 years        2332\n",
      "10 to 11 years      2021\n",
      "7 to 8 years        1974\n",
      "8 to 9 years        1565\n",
      "11 to 12 years      1048\n",
      "15 to 16 years      1041\n",
      "14 to 15 years      1022\n",
      "12 to 13 years       906\n",
      "16 to 17 years       854\n",
      "17 to 18 years       657\n",
      "13 to 14 years       636\n",
      "19 to 20 years       532\n",
      "18 to 19 years       515\n",
      "Name: YearsCodedJob, dtype: int64\n",
      "\n",
      "\n"
     ]
    }
   ],
   "source": [
    "Missing_values_multireplacement('YearsCodedJob')\n",
    "Unique_values_list('YearsCodedJob')"
   ]
  },
  {
   "cell_type": "markdown",
   "metadata": {},
   "source": [
    "#### **6) 'CareerSatisfaction', 'JobSatisfaction'**"
   ]
  },
  {
   "cell_type": "code",
   "execution_count": 40,
   "metadata": {
    "tags": []
   },
   "outputs": [
    {
     "name": "stdout",
     "output_type": "stream",
     "text": [
      "Number of unique values in 'CareerSatisfaction': 12            \n",
      "\n",
      "All unique values:\n",
      "8.0     10806\n",
      "7.0      9169\n",
      "NaN      8248\n",
      "9.0      5467\n",
      "10.0     5211\n",
      "6.0      4594\n",
      "5.0      2979\n",
      "4.0      1310\n",
      "3.0      1014\n",
      "2.0       472\n",
      "0.0       361\n",
      "1.0       194\n",
      "Name: CareerSatisfaction, dtype: int64\n",
      "\n",
      "\n"
     ]
    }
   ],
   "source": [
    "Unique_values_list('CareerSatisfaction')"
   ]
  },
  {
   "cell_type": "markdown",
   "metadata": {},
   "source": [
    "### Missing position (answer) means 'no satisfaction', so it will be replace by 0.\n",
    "### All numbers will be transform into integer."
   ]
  },
  {
   "cell_type": "code",
   "execution_count": 41,
   "metadata": {
    "tags": []
   },
   "outputs": [
    {
     "name": "stdout",
     "output_type": "stream",
     "text": [
      "Number of unique values in 'CareerSatisfaction': 11            \n",
      "\n",
      "All unique values:\n",
      "8     10806\n",
      "7      9169\n",
      "0      8609\n",
      "9      5467\n",
      "10     5211\n",
      "6      4594\n",
      "5      2979\n",
      "4      1310\n",
      "3      1014\n",
      "2       472\n",
      "1       194\n",
      "Name: CareerSatisfaction, dtype: int64\n",
      "\n",
      "\n"
     ]
    }
   ],
   "source": [
    "df_answers['CareerSatisfaction'] = df_answers['CareerSatisfaction'].replace(np.nan, 0)\n",
    "df_answers['CareerSatisfaction'] = df_answers['CareerSatisfaction'].astype('int8')\n",
    "\n",
    "Unique_values_list('CareerSatisfaction')"
   ]
  },
  {
   "cell_type": "code",
   "execution_count": 42,
   "metadata": {
    "tags": []
   },
   "outputs": [
    {
     "name": "stdout",
     "output_type": "stream",
     "text": [
      "Number of unique values in 'JobSatisfaction': 12            \n",
      "\n",
      "All unique values:\n",
      "NaN     10431\n",
      "8.0      8785\n",
      "7.0      7793\n",
      "9.0      5473\n",
      "6.0      4609\n",
      "10.0     4031\n",
      "5.0      3640\n",
      "4.0      1813\n",
      "3.0      1584\n",
      "2.0       865\n",
      "0.0       443\n",
      "1.0       358\n",
      "Name: JobSatisfaction, dtype: int64\n",
      "\n",
      "\n"
     ]
    }
   ],
   "source": [
    "Unique_values_list('JobSatisfaction')"
   ]
  },
  {
   "cell_type": "markdown",
   "metadata": {},
   "source": [
    "### Missing position (answer) means 'no satisfaction', so it will be replace by 0.\n",
    "### All numbers will be transform into integer."
   ]
  },
  {
   "cell_type": "code",
   "execution_count": 43,
   "metadata": {},
   "outputs": [
    {
     "name": "stdout",
     "output_type": "stream",
     "text": [
      "Number of unique values in 'JobSatisfaction': 11            \n",
      "\n",
      "All unique values:\n",
      "0     10874\n",
      "8      8785\n",
      "7      7793\n",
      "9      5473\n",
      "6      4609\n",
      "10     4031\n",
      "5      3640\n",
      "4      1813\n",
      "3      1584\n",
      "2       865\n",
      "1       358\n",
      "Name: JobSatisfaction, dtype: int64\n",
      "\n",
      "\n"
     ]
    }
   ],
   "source": [
    "df_answers['JobSatisfaction'] = df_answers['JobSatisfaction'].replace(np.nan, 0)\n",
    "df_answers['JobSatisfaction'] = df_answers['JobSatisfaction'].astype('int8')\n",
    "\n",
    "Unique_values_list('JobSatisfaction')"
   ]
  },
  {
   "cell_type": "markdown",
   "metadata": {},
   "source": [
    "#### **7) 'Gender'**"
   ]
  },
  {
   "cell_type": "code",
   "execution_count": 44,
   "metadata": {},
   "outputs": [
    {
     "name": "stdout",
     "output_type": "stream",
     "text": [
      "Number of unique values in 'Gender': 30            \n",
      "\n",
      "First 25 unique values:\n",
      "Male                                                       30924\n",
      "NaN                                                        15537\n",
      "Female                                                      2542\n",
      "Other                                                        210\n",
      "Male; Other                                                  166\n",
      "Gender non-conforming                                        155\n",
      "Male; Gender non-conforming                                   64\n",
      "Female; Transgender                                           56\n",
      "Transgender                                                   52\n",
      "Female; Gender non-conforming                                 29\n",
      "Transgender; Gender non-conforming                            15\n",
      "Male; Female                                                  14\n",
      "Male; Female; Transgender; Gender non-conforming; Other       12\n",
      "Male; Transgender                                             11\n",
      "Female; Transgender; Gender non-conforming                     8\n",
      "Male; Female; Transgender; Gender non-conforming               6\n",
      "Male; Transgender; Gender non-conforming                       4\n",
      "Male; Female; Transgender                                      3\n",
      "Gender non-conforming; Other                                   3\n",
      "Male; Gender non-conforming; Other                             3\n",
      "Male; Female; Other                                            2\n",
      "Male; Female; Gender non-conforming; Other                     1\n",
      "Male; Transgender; Other                                       1\n",
      "Male; Female; Transgender; Other                               1\n",
      "Female; Other                                                  1\n",
      "Name: Gender, dtype: int64\n",
      "\n",
      "\n"
     ]
    }
   ],
   "source": [
    "Unique_values_list('Gender')"
   ]
  },
  {
   "cell_type": "markdown",
   "metadata": {},
   "source": [
    "### Reduce all of this values into 3 groups (Male, Female, Null) and then replace NaN values \n",
    "### with 'Male' and 'Female' using *Missing_values_multireplacement()* function"
   ]
  },
  {
   "cell_type": "code",
   "execution_count": 45,
   "metadata": {},
   "outputs": [],
   "source": [
    "df_answers['Gender'] = np.where(df_answers['Gender'].isin(['Male', 'Female']), df_answers['Gender'], np.NaN)\n",
    "\n",
    "Missing_values_multireplacement('Gender')"
   ]
  },
  {
   "cell_type": "code",
   "execution_count": 46,
   "metadata": {},
   "outputs": [
    {
     "data": {
      "text/plain": [
       "count     49825\n",
       "unique        2\n",
       "top        Male\n",
       "freq      45972\n",
       "Name: Gender, dtype: object"
      ]
     },
     "execution_count": 46,
     "metadata": {},
     "output_type": "execute_result"
    }
   ],
   "source": [
    "df_answers['Gender'].describe()"
   ]
  },
  {
   "cell_type": "code",
   "execution_count": 47,
   "metadata": {},
   "outputs": [
    {
     "name": "stdout",
     "output_type": "stream",
     "text": [
      "<class 'pandas.core.frame.DataFrame'>\n",
      "RangeIndex: 49825 entries, 0 to 49824\n",
      "Data columns (total 20 columns):\n",
      " #   Column              Non-Null Count  Dtype  \n",
      "---  ------              --------------  -----  \n",
      " 0   Professional        49825 non-null  object \n",
      " 1   ProgramHobby        49825 non-null  object \n",
      " 2   Country             49825 non-null  object \n",
      " 3   University          49825 non-null  object \n",
      " 4   EmploymentStatus    49825 non-null  object \n",
      " 5   FormalEducation     49825 non-null  object \n",
      " 6   MajorUndergrad      49825 non-null  object \n",
      " 7   HomeRemote          49825 non-null  object \n",
      " 8   CompanySize         49825 non-null  object \n",
      " 9   CompanyType         49825 non-null  object \n",
      " 10  YearsProgram        49825 non-null  object \n",
      " 11  YearsCodedJob       49825 non-null  object \n",
      " 12  CareerSatisfaction  49825 non-null  int8   \n",
      " 13  JobSatisfaction     49825 non-null  int8   \n",
      " 14  Gender              49825 non-null  object \n",
      " 15  Race                32352 non-null  object \n",
      " 16  DeveloperType       35225 non-null  object \n",
      " 17  HaveWorkedLanguage  35799 non-null  object \n",
      " 18  Currency            21037 non-null  object \n",
      " 19  Salary              12747 non-null  float64\n",
      "dtypes: float64(1), int8(2), object(17)\n",
      "memory usage: 6.9+ MB\n"
     ]
    }
   ],
   "source": [
    "df_answers.info()"
   ]
  },
  {
   "cell_type": "markdown",
   "metadata": {},
   "source": [
    "#### **8) 'Race'**"
   ]
  },
  {
   "cell_type": "code",
   "execution_count": 48,
   "metadata": {
    "tags": []
   },
   "outputs": [
    {
     "name": "stdout",
     "output_type": "stream",
     "text": [
      "Number of unique values in 'Race': 91            \n",
      "\n",
      "First 25 unique values:\n",
      "White or of European descent                                                                                                                                                                                                     23181\n",
      "NaN                                                                                                                                                                                                                              17473\n",
      "South Asian                                                                                                                                                                                                                       2629\n",
      "East Asian                                                                                                                                                                                                                        1254\n",
      "Hispanic or Latino/Latina                                                                                                                                                                                                         1176\n",
      "Middle Eastern                                                                                                                                                                                                                     834\n",
      "I prefer not to say                                                                                                                                                                                                                788\n",
      "Black or of African descent                                                                                                                                                                                                        529\n",
      "I don’t know                                                                                                                                                                                                                       501\n",
      "Hispanic or Latino/Latina; White or of European descent                                                                                                                                                                            417\n",
      "Middle Eastern; White or of European descent                                                                                                                                                                                       192\n",
      "East Asian; White or of European descent                                                                                                                                                                                           134\n",
      "Native American, Pacific Islander, or Indigenous Australian; White or of European descent                                                                                                                                          109\n",
      "East Asian; South Asian                                                                                                                                                                                                            106\n",
      "Native American, Pacific Islander, or Indigenous Australian                                                                                                                                                                         81\n",
      "Black or of African descent; White or of European descent                                                                                                                                                                           56\n",
      "South Asian; White or of European descent                                                                                                                                                                                           46\n",
      "White or of European descent; I don’t know                                                                                                                                                                                          43\n",
      "Black or of African descent; Hispanic or Latino/Latina                                                                                                                                                                              24\n",
      "I don’t know; I prefer not to say                                                                                                                                                                                                   17\n",
      "White or of European descent; I prefer not to say                                                                                                                                                                                   16\n",
      "Hispanic or Latino/Latina; Native American, Pacific Islander, or Indigenous Australian; White or of European descent                                                                                                                12\n",
      "Black or of African descent; East Asian; Hispanic or Latino/Latina; Middle Eastern; Native American, Pacific Islander, or Indigenous Australian; South Asian; White or of European descent; I don’t know; I prefer not to say       11\n",
      "Middle Eastern; South Asian                                                                                                                                                                                                         10\n",
      "East Asian; Hispanic or Latino/Latina                                                                                                                                                                                                9\n",
      "Name: Race, dtype: int64\n",
      "\n",
      "\n"
     ]
    }
   ],
   "source": [
    "Unique_values_list('Race')"
   ]
  },
  {
   "cell_type": "markdown",
   "metadata": {},
   "source": [
    "### We must reduce huge list of different answers - there are many phrase repetitions in the strings and it could be a good idea to clean this mess using some Regex methods"
   ]
  },
  {
   "cell_type": "code",
   "execution_count": 49,
   "metadata": {},
   "outputs": [],
   "source": [
    "main_race_names = ['Black or of African descent', 'East Asian', 'Hispanic or Latino/Latina', 'Middle Eastern', 'South Asian',\n",
    "                   'Native American, Pacific Islander, or Indigenous Australian', 'White or of European descent']\n",
    "\n",
    "d = {}\n",
    "for i in main_race_names:\n",
    "    replace_string = str('^'+ i +'[\\s\\S]*')\n",
    "    replace_string\n",
    "    d.update({replace_string:i})\n",
    "    \n",
    "df_answers['Race'] = df_answers['Race'].replace(d, regex=True)"
   ]
  },
  {
   "cell_type": "code",
   "execution_count": 50,
   "metadata": {
    "scrolled": true
   },
   "outputs": [
    {
     "name": "stdout",
     "output_type": "stream",
     "text": [
      "Number of unique values in 'Race': 11            \n",
      "\n",
      "All unique values:\n",
      "White or of European descent                                   23245\n",
      "NaN                                                            17473\n",
      "South Asian                                                     2683\n",
      "Hispanic or Latino/Latina                                       1639\n",
      "East Asian                                                      1549\n",
      "Middle Eastern                                                  1049\n",
      "I prefer not to say                                              788\n",
      "Black or of African descent                                      688\n",
      "I don’t know                                                     501\n",
      "Native American, Pacific Islander, or Indigenous Australian      193\n",
      "I don’t know; I prefer not to say                                 17\n",
      "Name: Race, dtype: int64\n",
      "\n",
      "\n"
     ]
    }
   ],
   "source": [
    "Unique_values_list('Race')"
   ]
  },
  {
   "cell_type": "markdown",
   "metadata": {},
   "source": [
    "### Almost perfect, but what to do with the answers: **'I don’t know'**, **'I prefer not to say'**, **'I don’t know; I prefer not to say'**?\n",
    "\n",
    "### These sentences do not give us any extra informations, so at the first step we replace them with NaN value\n",
    "### and then we will use *Missing_values_multireplacement()* function.\n",
    "\n",
    "### It also simplify our later regression task, because we will have less, but more useful groups in that column."
   ]
  },
  {
   "cell_type": "code",
   "execution_count": 51,
   "metadata": {},
   "outputs": [
    {
     "name": "stdout",
     "output_type": "stream",
     "text": [
      "Number of unique values in 'Race': 7            \n",
      "\n",
      "All unique values:\n",
      "White or of European descent                                   37264\n",
      "South Asian                                                     4323\n",
      "Hispanic or Latino/Latina                                       2612\n",
      "East Asian                                                      2498\n",
      "Middle Eastern                                                  1686\n",
      "Black or of African descent                                     1125\n",
      "Native American, Pacific Islander, or Indigenous Australian      317\n",
      "Name: Race, dtype: int64\n",
      "\n",
      "\n"
     ]
    }
   ],
   "source": [
    "col_remove = ['I don’t know', 'I prefer not to say', 'I don’t know; I prefer not to say']\n",
    "df_answers['Race'] = np.where(~df_answers['Race'].isin(col_remove), df_answers['Race'], np.NaN)\n",
    "\n",
    "Missing_values_multireplacement('Race')\n",
    "\n",
    "Unique_values_list('Race')"
   ]
  },
  {
   "cell_type": "code",
   "execution_count": 52,
   "metadata": {
    "tags": []
   },
   "outputs": [
    {
     "name": "stdout",
     "output_type": "stream",
     "text": [
      "<class 'pandas.core.frame.DataFrame'>\n",
      "RangeIndex: 49825 entries, 0 to 49824\n",
      "Data columns (total 20 columns):\n",
      " #   Column              Non-Null Count  Dtype  \n",
      "---  ------              --------------  -----  \n",
      " 0   Professional        49825 non-null  object \n",
      " 1   ProgramHobby        49825 non-null  object \n",
      " 2   Country             49825 non-null  object \n",
      " 3   University          49825 non-null  object \n",
      " 4   EmploymentStatus    49825 non-null  object \n",
      " 5   FormalEducation     49825 non-null  object \n",
      " 6   MajorUndergrad      49825 non-null  object \n",
      " 7   HomeRemote          49825 non-null  object \n",
      " 8   CompanySize         49825 non-null  object \n",
      " 9   CompanyType         49825 non-null  object \n",
      " 10  YearsProgram        49825 non-null  object \n",
      " 11  YearsCodedJob       49825 non-null  object \n",
      " 12  CareerSatisfaction  49825 non-null  int8   \n",
      " 13  JobSatisfaction     49825 non-null  int8   \n",
      " 14  Gender              49825 non-null  object \n",
      " 15  Race                49825 non-null  object \n",
      " 16  DeveloperType       35225 non-null  object \n",
      " 17  HaveWorkedLanguage  35799 non-null  object \n",
      " 18  Currency            21037 non-null  object \n",
      " 19  Salary              12747 non-null  float64\n",
      "dtypes: float64(1), int8(2), object(17)\n",
      "memory usage: 6.9+ MB\n"
     ]
    }
   ],
   "source": [
    "df_answers.info()"
   ]
  },
  {
   "cell_type": "markdown",
   "metadata": {},
   "source": [
    "#### **9) 'DeveloperType'**"
   ]
  },
  {
   "cell_type": "code",
   "execution_count": 53,
   "metadata": {
    "scrolled": true
   },
   "outputs": [
    {
     "name": "stdout",
     "output_type": "stream",
     "text": [
      "Number of unique values in 'DeveloperType': 1785            \n",
      "\n",
      "First 25 unique values:\n",
      "NaN                                                                                14600\n",
      "Web developer                                                                      10453\n",
      "Web developer; Desktop applications developer                                       1816\n",
      "Mobile developer                                                                    1522\n",
      "Web developer; Mobile developer                                                     1457\n",
      "Desktop applications developer                                                      1404\n",
      "Other                                                                               1147\n",
      "Web developer; Mobile developer; Desktop applications developer                      720\n",
      "Web developer; DevOps specialist                                                     704\n",
      "Embedded applications/devices developer                                              654\n",
      "Web developer; Database administrator                                                496\n",
      "Developer with a statistics or mathematics background                                472\n",
      "Web developer; Developer with a statistics or mathematics background                 440\n",
      "Web developer; Desktop applications developer; Database administrator                371\n",
      "Web developer; Database administrator; Systems administrator                         282\n",
      "Web developer; Other                                                                 272\n",
      "Web developer; Systems administrator                                                 268\n",
      "Mobile developer; Desktop applications developer                                     236\n",
      "Data scientist                                                                       235\n",
      "Embedded applications/devices developer; Desktop applications developer              227\n",
      "Web developer; Systems administrator; DevOps specialist                              224\n",
      "Web developer; Database administrator; Systems administrator; DevOps specialist      201\n",
      "Web developer; Graphic designer                                                      200\n",
      "Web developer; Data scientist                                                        193\n",
      "DevOps specialist                                                                    186\n",
      "Name: DeveloperType, dtype: int64\n",
      "\n",
      "\n"
     ]
    }
   ],
   "source": [
    "Unique_values_list('DeveloperType')"
   ]
  },
  {
   "cell_type": "markdown",
   "metadata": {},
   "source": [
    "### There were more than 1700 unique values after making our filtered dataset!! If our model could be usably we need to limit this to about 50-100 positions."
   ]
  },
  {
   "cell_type": "code",
   "execution_count": 54,
   "metadata": {},
   "outputs": [],
   "source": [
    "df_answers['DeveloperType'] = df_answers['DeveloperType']\\\n",
    ".replace(np.nan, '')\\\n",
    ".map(lambda x: '; '.join(x.split('; ')[:2]) if len(x.split('; ')) > 2 else x)\\\n",
    ".replace('', np.nan)"
   ]
  },
  {
   "cell_type": "code",
   "execution_count": 55,
   "metadata": {
    "scrolled": true
   },
   "outputs": [
    {
     "name": "stdout",
     "output_type": "stream",
     "text": [
      "Number of unique values in 'DeveloperType': 101            \n",
      "\n",
      "First 25 unique values:\n",
      "NaN                                                                                      14600\n",
      "Web developer                                                                            10453\n",
      "Web developer; Mobile developer                                                           5453\n",
      "Web developer; Desktop applications developer                                             2941\n",
      "Mobile developer                                                                          1522\n",
      "Desktop applications developer                                                            1404\n",
      "Web developer; Developer with a statistics or mathematics background                      1263\n",
      "Web developer; Database administrator                                                     1205\n",
      "Other                                                                                     1147\n",
      "Web developer; DevOps specialist                                                           764\n",
      "Web developer; Embedded applications/devices developer                                     735\n",
      "Embedded applications/devices developer                                                    654\n",
      "Web developer; Data scientist                                                              617\n",
      "Web developer; Systems administrator                                                       546\n",
      "Developer with a statistics or mathematics background                                      472\n",
      "Web developer; Machine learning specialist                                                 417\n",
      "Web developer; Graphics programming                                                        414\n",
      "Web developer; Graphic designer                                                            388\n",
      "Mobile developer; Desktop applications developer                                           319\n",
      "Mobile developer; Embedded applications/devices developer                                  317\n",
      "Embedded applications/devices developer; Desktop applications developer                    295\n",
      "Web developer; Other                                                                       272\n",
      "Data scientist                                                                             235\n",
      "Developer with a statistics or mathematics background; Desktop applications developer      213\n",
      "Developer with a statistics or mathematics background; Data scientist                      200\n",
      "Name: DeveloperType, dtype: int64\n",
      "\n",
      "\n"
     ]
    }
   ],
   "source": [
    "Unique_values_list('DeveloperType')"
   ]
  },
  {
   "cell_type": "markdown",
   "metadata": {},
   "source": [
    "### We see sometimes extra '; Other' description at the end of the strings - let's remove them and simplify our group of unique values in this column"
   ]
  },
  {
   "cell_type": "code",
   "execution_count": 56,
   "metadata": {
    "tags": []
   },
   "outputs": [
    {
     "name": "stdout",
     "output_type": "stream",
     "text": [
      "Number of unique values in 'DeveloperType': 89            \n",
      "\n",
      "First 25 unique values:\n",
      "NaN                                                                                      14600\n",
      "Web developer                                                                            10725\n",
      "Web developer; Mobile developer                                                           5453\n",
      "Web developer; Desktop applications developer                                             2941\n",
      "Mobile developer                                                                          1556\n",
      "Desktop applications developer                                                            1482\n",
      "Web developer; Developer with a statistics or mathematics background                      1263\n",
      "Web developer; Database administrator                                                     1205\n",
      "Other                                                                                     1147\n",
      "Web developer; DevOps specialist                                                           764\n",
      "Web developer; Embedded applications/devices developer                                     735\n",
      "Embedded applications/devices developer                                                    694\n",
      "Web developer; Data scientist                                                              617\n",
      "Web developer; Systems administrator                                                       546\n",
      "Developer with a statistics or mathematics background                                      522\n",
      "Web developer; Machine learning specialist                                                 417\n",
      "Web developer; Graphics programming                                                        414\n",
      "Web developer; Graphic designer                                                            388\n",
      "Mobile developer; Desktop applications developer                                           319\n",
      "Mobile developer; Embedded applications/devices developer                                  317\n",
      "Embedded applications/devices developer; Desktop applications developer                    295\n",
      "Data scientist                                                                             266\n",
      "Developer with a statistics or mathematics background; Desktop applications developer      213\n",
      "DevOps specialist                                                                          211\n",
      "Developer with a statistics or mathematics background; Data scientist                      200\n",
      "Name: DeveloperType, dtype: int64\n",
      "\n",
      "\n"
     ]
    }
   ],
   "source": [
    "df_answers['DeveloperType'] = df_answers['DeveloperType']\\\n",
    ".replace(np.nan, '')\\\n",
    ".map(lambda x: x.split('; Other')[0])\\\n",
    ".replace('', np.nan)\n",
    "\n",
    "Unique_values_list('DeveloperType')"
   ]
  },
  {
   "cell_type": "code",
   "execution_count": 57,
   "metadata": {
    "scrolled": true,
    "tags": []
   },
   "outputs": [
    {
     "name": "stdout",
     "output_type": "stream",
     "text": [
      "Final number of the filtered developer types: 66\n",
      "\n",
      "All names of the filtered developer types: \n",
      "['Web developer; Mobile developer'\n",
      " 'Web developer; Desktop applications developer'\n",
      " 'Web developer; Database administrator'\n",
      " 'Embedded applications/devices developer'\n",
      " 'Mobile developer; Graphics programming' 'Web developer'\n",
      " 'Mobile developer; Desktop applications developer'\n",
      " 'Systems administrator; DevOps specialist'\n",
      " 'Desktop applications developer'\n",
      " 'Web developer; Embedded applications/devices developer' 'Data scientist'\n",
      " 'Mobile developer' 'Machine learning specialist; Data scientist'\n",
      " 'Web developer; Data scientist' 'Data scientist; Data scientist'\n",
      " 'Web developer; Systems administrator' 'DevOps specialist'\n",
      " 'Data scientist; Desktop applications developer'\n",
      " 'Web developer; DevOps specialist' 'Web developer; Graphic designer'\n",
      " 'Web developer; Graphics programming'\n",
      " 'Web developer; Machine learning specialist'\n",
      " 'Web developer; Quality assurance engineer' 'Database administrator'\n",
      " 'Graphics programming; Data scientist'\n",
      " 'Systems administrator; Quality assurance engineer'\n",
      " 'Embedded applications/devices developer; Quality assurance engineer'\n",
      " 'Mobile developer; Embedded applications/devices developer'\n",
      " 'Embedded applications/devices developer; Graphics programming'\n",
      " 'Embedded applications/devices developer; Desktop applications developer'\n",
      " 'Database administrator; Systems administrator'\n",
      " 'Machine learning specialist' 'Mobile developer; DevOps specialist'\n",
      " 'Mobile developer; Database administrator'\n",
      " 'Graphics programming; Machine learning specialist'\n",
      " 'Graphics programming; Graphic designer'\n",
      " 'Mobile developer; Data scientist' 'Quality assurance engineer'\n",
      " 'Graphics programming; Desktop applications developer'\n",
      " 'Embedded applications/devices developer; Machine learning specialist'\n",
      " 'Embedded applications/devices developer; Data scientist'\n",
      " 'Data scientist; DevOps specialist'\n",
      " 'Desktop applications developer; Systems administrator'\n",
      " 'Desktop applications developer; Database administrator'\n",
      " 'Data scientist; Systems administrator'\n",
      " 'Desktop applications developer; Quality assurance engineer'\n",
      " 'Data scientist; Database administrator'\n",
      " 'Machine learning specialist; Desktop applications developer'\n",
      " 'Data scientist; Quality assurance engineer'\n",
      " 'Desktop applications developer; DevOps specialist'\n",
      " 'Systems administrator' 'Mobile developer; Machine learning specialist'\n",
      " 'Embedded applications/devices developer; DevOps specialist'\n",
      " 'DevOps specialist; Quality assurance engineer' 'Graphics programming'\n",
      " 'Graphic designer' 'Machine learning specialist; Systems administrator'\n",
      " 'Embedded applications/devices developer; Database administrator'\n",
      " 'Embedded applications/devices developer; Systems administrator'\n",
      " 'Embedded applications/devices developer; Graphic designer'\n",
      " 'Database administrator; DevOps specialist'\n",
      " 'Mobile developer; Graphic designer'\n",
      " 'Graphic designer; Desktop applications developer'\n",
      " 'Mobile developer; Quality assurance engineer'\n",
      " 'Mobile developer; Systems administrator'\n",
      " 'Data scientist; Graphic designer']\n"
     ]
    }
   ],
   "source": [
    "df_answers['DeveloperType'] = df_answers['DeveloperType'].replace('Other', np.nan)\n",
    "df_answers['DeveloperType'] = df_answers['DeveloperType'].replace(regex=r'Developer with a statistics or mathematics background',\n",
    "                                                                  value='Data scientist')\n",
    "\n",
    "Missing_values_multireplacement('DeveloperType')\n",
    "\n",
    "developer_types = df_answers.groupby('DeveloperType').filter(lambda x: len(x) >= 5)['DeveloperType'].unique()\n",
    "\n",
    "print(f\"Final number of the filtered developer types: {len(developer_types)}\\n\")\n",
    "print(f\"All names of the filtered developer types: \\n{developer_types}\")"
   ]
  },
  {
   "cell_type": "markdown",
   "metadata": {},
   "source": [
    "#### After making many transformations we achieved our goal - there are 66 'developer type' only (and that is 66/1785=4% *'compression'*).\n",
    "#### Now we take into consideration our filter (*developer_types* variable) and make cleaning of our DataFrame."
   ]
  },
  {
   "cell_type": "code",
   "execution_count": 58,
   "metadata": {
    "tags": []
   },
   "outputs": [
    {
     "name": "stdout",
     "output_type": "stream",
     "text": [
      "<class 'pandas.core.frame.DataFrame'>\n",
      "RangeIndex: 49810 entries, 0 to 49809\n",
      "Data columns (total 20 columns):\n",
      " #   Column              Non-Null Count  Dtype  \n",
      "---  ------              --------------  -----  \n",
      " 0   Professional        49810 non-null  object \n",
      " 1   ProgramHobby        49810 non-null  object \n",
      " 2   Country             49810 non-null  object \n",
      " 3   University          49810 non-null  object \n",
      " 4   EmploymentStatus    49810 non-null  object \n",
      " 5   FormalEducation     49810 non-null  object \n",
      " 6   MajorUndergrad      49810 non-null  object \n",
      " 7   HomeRemote          49810 non-null  object \n",
      " 8   CompanySize         49810 non-null  object \n",
      " 9   CompanyType         49810 non-null  object \n",
      " 10  YearsProgram        49810 non-null  object \n",
      " 11  YearsCodedJob       49810 non-null  object \n",
      " 12  CareerSatisfaction  49810 non-null  int8   \n",
      " 13  JobSatisfaction     49810 non-null  int8   \n",
      " 14  Gender              49810 non-null  object \n",
      " 15  Race                49810 non-null  object \n",
      " 16  DeveloperType       49810 non-null  object \n",
      " 17  HaveWorkedLanguage  35787 non-null  object \n",
      " 18  Currency            21029 non-null  object \n",
      " 19  Salary              12743 non-null  float64\n",
      "dtypes: float64(1), int8(2), object(17)\n",
      "memory usage: 6.9+ MB\n"
     ]
    }
   ],
   "source": [
    "df_answers = df_answers[df_answers['DeveloperType'].isin(developer_types)].reset_index(drop=True)\n",
    "df_answers.info()"
   ]
  },
  {
   "cell_type": "markdown",
   "metadata": {},
   "source": [
    "### Everything till now looks fine and only 2 columns must be checked: 'HaveWorkedLanguage' and 'Currency'"
   ]
  },
  {
   "cell_type": "markdown",
   "metadata": {},
   "source": [
    "#### **10) 'HaveWorkedLanguage'**"
   ]
  },
  {
   "cell_type": "code",
   "execution_count": 59,
   "metadata": {
    "scrolled": true
   },
   "outputs": [
    {
     "name": "stdout",
     "output_type": "stream",
     "text": [
      "Number of unique values in 'HaveWorkedLanguage': 8292            \n",
      "\n",
      "First 25 unique values:\n",
      "NaN                                14023\n",
      "C#; JavaScript; SQL                 1250\n",
      "JavaScript; PHP; SQL                1113\n",
      "Java                                 881\n",
      "JavaScript                           790\n",
      "JavaScript; PHP                      648\n",
      "Java; JavaScript; SQL                632\n",
      "Java; JavaScript                     578\n",
      "C#                                   532\n",
      "Python                               515\n",
      "C#; JavaScript                       492\n",
      "C#; SQL                              485\n",
      "C#; JavaScript; SQL; TypeScript      402\n",
      "JavaScript; Python                   379\n",
      "Java; SQL                            350\n",
      "Java; JavaScript; PHP; SQL           331\n",
      "JavaScript; PHP; Python; SQL         248\n",
      "C#; JavaScript; PHP; SQL             246\n",
      "C++                                  243\n",
      "C#; Java; JavaScript; SQL            222\n",
      "PHP                                  209\n",
      "Java; Python                         203\n",
      "C#; JavaScript; SQL; VB.NET          201\n",
      "JavaScript; Python; SQL              198\n",
      "SQL                                  185\n",
      "Name: HaveWorkedLanguage, dtype: int64\n",
      "\n",
      "\n"
     ]
    }
   ],
   "source": [
    "Unique_values_list('HaveWorkedLanguage')"
   ]
  },
  {
   "cell_type": "markdown",
   "metadata": {},
   "source": [
    "### The most popular programming languages from PYPL Index https://pypl.github.io/PYPL.html\n",
    "### 'Python', 'Java', 'JavaScript', 'C#', 'C', 'C++', 'C/C++', 'PHP', 'R', 'TypeScript', 'Objective-C', 'Swift', 'Kotlin', 'Matlab', 'VBA', 'Go', 'Rust', 'Ruby', 'Visual Basic', 'Ada', 'Scala', 'Dart', 'Lua', 'Abap', 'PERL', 'Julia', 'Groovy', 'Cobol' 'Delphi/Pascal', 'Delphi', 'Pascal', 'Haskell' \n",
    "\n",
    "### My additional choice (excluded in PYPL Index) are 'SQL' and 'VB.NET'"
   ]
  },
  {
   "cell_type": "code",
   "execution_count": 60,
   "metadata": {},
   "outputs": [],
   "source": [
    "## Making full list of the most popular programming languages\n",
    "\n",
    "IT_languages = ['Python', 'Java', 'JavaScript', 'C#', 'C', 'C++', 'C/C++', 'PHP',\n",
    "                'R', 'TypeScript', 'Objective-C', 'Swift', 'Kotlin', 'Matlab', 'VBA',\n",
    "                'Go', 'Rust', 'Ruby', 'Visual Basic', 'Ada', 'Scala', 'Dart', 'Lua',\n",
    "                'Abap', 'PERL', 'Julia', 'Groovy', 'Cobol', 'Delphi/Pascal', 'Delphi',\n",
    "                'Pascal', 'Haskell', 'SQL', 'VB.NET']"
   ]
  },
  {
   "cell_type": "markdown",
   "metadata": {},
   "source": [
    "### Because people have tendency to write as many programming languages as they know (or thought they know),\n",
    "### so we will filter every answer to only 2 first options (languages).\n",
    "\n",
    "### It will looks like ['main language', 'secondary language'] list where:\n",
    "#### - 'main language' (used in everyday work)\n",
    "#### - 'secondary language' (as a complementary to 'main language')"
   ]
  },
  {
   "cell_type": "code",
   "execution_count": 61,
   "metadata": {
    "scrolled": true
   },
   "outputs": [
    {
     "name": "stdout",
     "output_type": "stream",
     "text": [
      "Number of unique values in 'HaveWorkedLanguage': 402            \n",
      "\n",
      "First 25 unique values:\n",
      "C#; JavaScript              5754\n",
      "Java; JavaScript            4795\n",
      "C; C++                      4629\n",
      "JavaScript; PHP             3781\n",
      "C#; Java                    2467\n",
      "Assembly; C                 1938\n",
      "C++; C#                     1872\n",
      "Java                        1243\n",
      "JavaScript; Python          1143\n",
      "C++; Java                   1099\n",
      "JavaScript                  1092\n",
      "C#; SQL                      943\n",
      "C; Java                      820\n",
      "Python                       755\n",
      "C#                           739\n",
      "Groovy; Java                 699\n",
      "C; C#                        688\n",
      "Java; Python                 570\n",
      "C++; JavaScript              542\n",
      "Java; SQL                    526\n",
      "CoffeeScript; JavaScript     483\n",
      "JavaScript; Ruby             413\n",
      "C; JavaScript                369\n",
      "C++; Python                  352\n",
      "C++                          346\n",
      "Name: HaveWorkedLanguage, dtype: int64\n",
      "\n",
      "\n"
     ]
    }
   ],
   "source": [
    "df_answers['HaveWorkedLanguage'] = df_answers['HaveWorkedLanguage']\\\n",
    ".replace(np.nan, None)\\\n",
    ".map(lambda x: '; '.join(x.split('; ')[:2]) if len(x.split('; ')) > 2 else x)\n",
    "\n",
    "Unique_values_list('HaveWorkedLanguage')"
   ]
  },
  {
   "cell_type": "markdown",
   "metadata": {},
   "source": [
    "### Not bad (20 times less values!!), but now we will use our list of the most popular programming languages\n",
    "### (PYPL Index) to get much lower number of unique values."
   ]
  },
  {
   "cell_type": "code",
   "execution_count": 62,
   "metadata": {},
   "outputs": [],
   "source": [
    "def IT_programs_filter(x):\n",
    "    filtered_lists = [list1 for list1 in x.split('; ')[:2] if list1.lower() in (y.lower() for y in IT_languages)]\n",
    "    return (', ').join(filtered_lists)\n",
    "\n",
    "df_answers['HaveWorkedLanguage'] = df_answers['HaveWorkedLanguage'].map(lambda x: IT_programs_filter(x))"
   ]
  },
  {
   "cell_type": "code",
   "execution_count": 63,
   "metadata": {
    "scrolled": true
   },
   "outputs": [
    {
     "name": "stdout",
     "output_type": "stream",
     "text": [
      "Number of unique values in 'HaveWorkedLanguage': 243            \n",
      "\n",
      "First 25 unique values:\n",
      "C#, JavaScript        5754\n",
      "Java, JavaScript      4795\n",
      "C, C++                4629\n",
      "JavaScript, PHP       3781\n",
      "C#, Java              2467\n",
      "C                     2245\n",
      "C++, C#               1872\n",
      "JavaScript            1829\n",
      "Java                  1639\n",
      "C#                    1596\n",
      "JavaScript, Python    1143\n",
      "C++, Java             1099\n",
      "C#, SQL                943\n",
      "C, Java                820\n",
      "Python                 809\n",
      "C++                    747\n",
      "Groovy, Java           699\n",
      "C, C#                  688\n",
      "Java, Python           570\n",
      "C++, JavaScript        542\n",
      "Java, SQL              526\n",
      "JavaScript, Ruby       413\n",
      "C, JavaScript          369\n",
      "C++, Python            352\n",
      "PHP                    337\n",
      "Name: HaveWorkedLanguage, dtype: int64\n",
      "\n",
      "\n"
     ]
    }
   ],
   "source": [
    "Unique_values_list('HaveWorkedLanguage')"
   ]
  },
  {
   "cell_type": "code",
   "execution_count": 64,
   "metadata": {
    "scrolled": true,
    "tags": []
   },
   "outputs": [
    {
     "name": "stdout",
     "output_type": "stream",
     "text": [
      "Final number of the filtered IT language types: 176\n",
      "\n",
      "All names of the filtered IT language types: \n",
      "['Swift' 'JavaScript, Python' 'Java, PHP' 'Matlab, Python'\n",
      " 'JavaScript, PHP' '' 'C#, JavaScript' 'Objective-C, Swift' 'R, SQL'\n",
      " 'C, C++' 'Java, JavaScript' 'C' 'JavaScript, VB.NET' 'JavaScript'\n",
      " 'Perl, Python' 'Java' 'PHP, SQL' 'Java, Scala' 'C#, Java' 'C#' 'C++, C#'\n",
      " 'JavaScript, Ruby' 'C++' 'Go, Java' 'PHP' 'Java, SQL' 'JavaScript, Scala'\n",
      " 'C, JavaScript' 'Haskell' 'C, C#' 'C, Go' 'Python' 'Java, VB.NET'\n",
      " 'C#, Go' 'C, Python' 'VB.NET' 'C#, SQL' 'C++, Java' 'Ruby' 'SQL'\n",
      " 'Matlab, VBA' 'Go, JavaScript' 'C#, Objective-C' 'C, Java'\n",
      " 'JavaScript, TypeScript' 'Groovy, Java' 'C#, Dart' 'C++, Matlab'\n",
      " 'Java, Lua' 'C++, Objective-C' 'JavaScript, SQL' 'C++, Python'\n",
      " 'Go, Groovy' 'Objective-C, Python' 'Python, R' 'Scala' 'Java, Matlab'\n",
      " 'C++, JavaScript' 'Go, Python' 'Java, Python' 'JavaScript, Perl'\n",
      " 'C#, Python' 'Groovy, PHP' 'C++, Haskell' 'Go' 'C#, Matlab' 'C, Swift'\n",
      " 'SQL, VB.NET' 'Python, SQL' 'Java, TypeScript' 'PHP, Python' 'Ruby, SQL'\n",
      " 'C++, Perl' 'C++, Swift' 'C++, Groovy' 'Objective-C, Ruby' 'C#, R'\n",
      " 'Groovy' 'Objective-C' 'C, PHP' 'C, Groovy' 'Go, Objective-C' 'Rust'\n",
      " 'C, Matlab' 'C#, Haskell' 'Haskell, PHP' 'JavaScript, Objective-C'\n",
      " 'Haskell, Java' 'Java, Ruby' 'Java, Objective-C' 'Lua' 'C, Lua'\n",
      " 'SQL, VBA' 'Java, Swift' 'Python, Ruby' 'Dart' 'Objective-C, SQL'\n",
      " 'C++, Go' 'Dart, Java' 'R' 'C#, VB.NET' 'C#, Ruby' 'C, Haskell' 'Perl'\n",
      " 'C#, Groovy' 'C#, TypeScript' 'C, Objective-C' 'Groovy, JavaScript'\n",
      " 'Python, Scala' 'JavaScript, Lua' 'Lua, PHP' 'Objective-C, PHP'\n",
      " 'Dart, Go' 'VBA' 'JavaScript, Swift' 'C++, PHP' 'C#, PHP' 'C#, VBA'\n",
      " 'Matlab, R' 'Go, Ruby' 'JavaScript, R' 'C++, Scala' 'Go, Haskell'\n",
      " 'Julia, Python' 'Python, Swift' 'Haskell, Python' 'R, VBA' 'Java, Perl'\n",
      " 'Python, Rust' 'C, Perl' 'Haskell, JavaScript' 'Ruby, Scala'\n",
      " 'JavaScript, Matlab' 'C, SQL' 'Lua, Python' 'Matlab' 'R, Ruby'\n",
      " 'Dart, JavaScript' 'C#, Swift' 'Python, VB.NET' 'C#, Perl' 'Perl, Ruby'\n",
      " 'Perl, PHP' 'Groovy, Python' 'C++, SQL' 'Java, VBA' 'Perl, SQL'\n",
      " 'PHP, Swift' 'Go, PHP' 'TypeScript' 'Java, R' 'PHP, Ruby' 'Python, VBA'\n",
      " 'Lua, Matlab' 'C++, Lua' 'Matlab, Swift' 'C++, Ruby' 'Dart, Groovy'\n",
      " 'Go, Lua' 'Groovy, Haskell' 'C++, VBA' 'Go, SQL' 'Matlab, PHP'\n",
      " 'JavaScript, Rust' 'C#, Scala' 'C, R' 'Ruby, Swift' 'Go, Perl'\n",
      " 'Julia, PHP' 'VB.NET, VBA' 'JavaScript, VBA' 'Python, TypeScript'\n",
      " 'Scala, SQL' 'C, Ruby' 'Julia' 'Objective-C, Perl']\n"
     ]
    }
   ],
   "source": [
    "IT_language_types = df_answers.groupby('HaveWorkedLanguage').filter(lambda x: len(x) >= 5)['HaveWorkedLanguage'].unique()\n",
    "\n",
    "print(f\"Final number of the filtered IT language types: {len(IT_language_types)}\\n\")\n",
    "print(f\"All names of the filtered IT language types: \\n{IT_language_types}\")"
   ]
  },
  {
   "cell_type": "markdown",
   "metadata": {},
   "source": [
    "#### Final result is awesome - 176 combinations from almost 8300 at the beginning (2% *'compression'*).\n",
    "#### Now we take into consideration our filter (*IT_language_types* variable) and make cleaning of our DataFrame once again."
   ]
  },
  {
   "cell_type": "code",
   "execution_count": 65,
   "metadata": {
    "tags": []
   },
   "outputs": [
    {
     "name": "stdout",
     "output_type": "stream",
     "text": [
      "<class 'pandas.core.frame.DataFrame'>\n",
      "RangeIndex: 49670 entries, 0 to 49669\n",
      "Data columns (total 20 columns):\n",
      " #   Column              Non-Null Count  Dtype  \n",
      "---  ------              --------------  -----  \n",
      " 0   Professional        49670 non-null  object \n",
      " 1   ProgramHobby        49670 non-null  object \n",
      " 2   Country             49670 non-null  object \n",
      " 3   University          49670 non-null  object \n",
      " 4   EmploymentStatus    49670 non-null  object \n",
      " 5   FormalEducation     49670 non-null  object \n",
      " 6   MajorUndergrad      49670 non-null  object \n",
      " 7   HomeRemote          49670 non-null  object \n",
      " 8   CompanySize         49670 non-null  object \n",
      " 9   CompanyType         49670 non-null  object \n",
      " 10  YearsProgram        49670 non-null  object \n",
      " 11  YearsCodedJob       49670 non-null  object \n",
      " 12  CareerSatisfaction  49670 non-null  int8   \n",
      " 13  JobSatisfaction     49670 non-null  int8   \n",
      " 14  Gender              49670 non-null  object \n",
      " 15  Race                49670 non-null  object \n",
      " 16  DeveloperType       49670 non-null  object \n",
      " 17  HaveWorkedLanguage  49670 non-null  object \n",
      " 18  Currency            20975 non-null  object \n",
      " 19  Salary              12710 non-null  float64\n",
      "dtypes: float64(1), int8(2), object(17)\n",
      "memory usage: 6.9+ MB\n"
     ]
    }
   ],
   "source": [
    "df_answers = df_answers[df_answers['HaveWorkedLanguage'].isin(IT_language_types)].reset_index(drop=True)\n",
    "df_answers.info()"
   ]
  },
  {
   "cell_type": "markdown",
   "metadata": {},
   "source": [
    "#### **11) 'Currency'**"
   ]
  },
  {
   "cell_type": "code",
   "execution_count": 66,
   "metadata": {},
   "outputs": [
    {
     "name": "stdout",
     "output_type": "stream",
     "text": [
      "Number of unique values in 'Currency': 18            \n",
      "\n",
      "All unique values:\n",
      "NaN                            28695\n",
      "U.S. dollars ($)                6844\n",
      "Euros (€)                       5746\n",
      "British pounds sterling (£)     2153\n",
      "Indian rupees (?)               2151\n",
      "Canadian dollars (C$)           1052\n",
      "Polish zloty (zl)                562\n",
      "Australian dollars (A$)          467\n",
      "Russian rubles (?)               362\n",
      "Brazilian reais (R$)             359\n",
      "Swedish kroner (SEK)             304\n",
      "Swiss francs                     291\n",
      "South African rands (R)          167\n",
      "Mexican pesos (MXN$)             143\n",
      "Japanese yen (¥)                 122\n",
      "Chinese yuan renminbi (¥)        118\n",
      "Singapore dollars (S$)            75\n",
      "Bitcoin (btc)                     59\n",
      "Name: Currency, dtype: int64\n",
      "\n",
      "\n"
     ]
    }
   ],
   "source": [
    "Unique_values_list('Currency')"
   ]
  },
  {
   "cell_type": "markdown",
   "metadata": {},
   "source": [
    "### This is very (probably - the most) important column for our future modelling.\n",
    "#### 1) Replace Bitcoin values with 'np.nan' (Bitcoin is not formal currency in the world, besides its\n",
    "#### market value can change dramatically in short period of time - there is no reference point)\n",
    "#### 2) Currencies in every country have different 'impact' on human life and I think that\n",
    "#### the best method is probably making recalculation from all the currencies to USD (excluding USD).\n",
    "#### After this we will round the results to 2 decimals point.\n",
    "#### 3) Remove 'Currency' column which was added temporary to recalculate currencies."
   ]
  },
  {
   "cell_type": "code",
   "execution_count": 67,
   "metadata": {},
   "outputs": [
    {
     "name": "stdout",
     "output_type": "stream",
     "text": [
      "Number of unique values in 'Currency': 17            \n",
      "\n",
      "All unique values:\n",
      "NaN                            28695\n",
      "U.S. dollars ($)                6844\n",
      "Euros (€)                       5746\n",
      "British pounds sterling (£)     2153\n",
      "Indian rupees (?)               2151\n",
      "Canadian dollars (C$)           1052\n",
      "Polish zloty (zl)                562\n",
      "Australian dollars (A$)          467\n",
      "Russian rubles (?)               362\n",
      "Brazilian reais (R$)             359\n",
      "Swedish kroner (SEK)             304\n",
      "Swiss francs                     291\n",
      "South African rands (R)          167\n",
      "Mexican pesos (MXN$)             143\n",
      "Japanese yen (¥)                 122\n",
      "Chinese yuan renminbi (¥)        118\n",
      "Singapore dollars (S$)            75\n",
      "Name: Currency, dtype: int64\n",
      "\n",
      "\n"
     ]
    }
   ],
   "source": [
    "df_answers = df_answers[~df_answers['Currency'].isin(['Bitcoin (btc)'])].reset_index(drop=True)\n",
    "\n",
    "Unique_values_list('Currency')"
   ]
  },
  {
   "cell_type": "code",
   "execution_count": 68,
   "metadata": {
    "tags": []
   },
   "outputs": [
    {
     "data": {
      "text/plain": [
       "array([nan, 'British pounds sterling (£)', 'Canadian dollars (C$)',\n",
       "       'U.S. dollars ($)', 'Euros (€)', 'Brazilian reais (R$)',\n",
       "       'Indian rupees (?)', 'Polish zloty (zl)', 'Swedish kroner (SEK)',\n",
       "       'Russian rubles (?)', 'Swiss francs', 'Australian dollars (A$)',\n",
       "       'Mexican pesos (MXN$)', 'Japanese yen (¥)',\n",
       "       'Chinese yuan renminbi (¥)', 'Singapore dollars (S$)',\n",
       "       'South African rands (R)'], dtype=object)"
      ]
     },
     "execution_count": 68,
     "metadata": {},
     "output_type": "execute_result"
    }
   ],
   "source": [
    "df_answers['Currency'].unique()"
   ]
  },
  {
   "cell_type": "code",
   "execution_count": 69,
   "metadata": {
    "tags": []
   },
   "outputs": [],
   "source": [
    "def Filter_replace(col, str_repl):\n",
    "    '''\n",
    "        \n",
    "    '''\n",
    "    \n",
    "    filter_1 = df_answers['Country'].isin(col)\n",
    "    filter_2 = df_answers['Currency'].isna()\n",
    "    \n",
    "    _ = df_answers[filter_1 & filter_2].index.tolist()\n",
    "    df_answers['Currency'] = np.where(df_answers['Currency'].index.isin(_), str_repl, df_answers['Currency'])\n",
    "    \n",
    "    return df_answers['Currency']"
   ]
  },
  {
   "cell_type": "markdown",
   "metadata": {},
   "source": [
    "### Filling missing position in 'Currency' column with the rest of the currencies\n",
    "### (in the order from the 2 list below)"
   ]
  },
  {
   "cell_type": "code",
   "execution_count": 70,
   "metadata": {
    "tags": []
   },
   "outputs": [
    {
     "name": "stdout",
     "output_type": "stream",
     "text": [
      "Number of unique values in 'Currency': 17            \n",
      "\n",
      "All unique values:\n",
      "NaN                            22734\n",
      "Euros (€)                      11707\n",
      "U.S. dollars ($)                6844\n",
      "British pounds sterling (£)     2153\n",
      "Indian rupees (?)               2151\n",
      "Canadian dollars (C$)           1052\n",
      "Polish zloty (zl)                562\n",
      "Australian dollars (A$)          467\n",
      "Russian rubles (?)               362\n",
      "Brazilian reais (R$)             359\n",
      "Swedish kroner (SEK)             304\n",
      "Swiss francs                     291\n",
      "South African rands (R)          167\n",
      "Mexican pesos (MXN$)             143\n",
      "Japanese yen (¥)                 122\n",
      "Chinese yuan renminbi (¥)        118\n",
      "Singapore dollars (S$)            75\n",
      "Name: Currency, dtype: int64\n",
      "\n",
      "\n"
     ]
    }
   ],
   "source": [
    "euro_currency_countries = ['Ireland', 'Estonia', 'Slovenia', 'Portugal',\n",
    "                           'Finland', 'Italy', 'Belgium', 'Macedonia', 'Germany', \n",
    "                           'Netherlands', 'Spain', 'Latvia', 'Austria',\n",
    "                           'France', 'Lithuania', 'Greece', 'Slovak Republic']\n",
    "\n",
    "Filter_replace(euro_currency_countries, 'Euros (€)')\n",
    "Unique_values_list('Currency')"
   ]
  },
  {
   "cell_type": "markdown",
   "metadata": {},
   "source": [
    "### Filling missing position in 'Currency' column with the rest of the currencies\n",
    "### (in the order from the 2 lists below)"
   ]
  },
  {
   "cell_type": "code",
   "execution_count": 71,
   "metadata": {
    "tags": []
   },
   "outputs": [
    {
     "name": "stdout",
     "output_type": "stream",
     "text": [
      "Number of unique values in 'Currency': 17            \n",
      "\n",
      "All unique values:\n",
      "U.S. dollars ($)               12370\n",
      "Euros (€)                      11707\n",
      "NaN                             7458\n",
      "Indian rupees (?)               5055\n",
      "British pounds sterling (£)     4375\n",
      "Canadian dollars (C$)           2203\n",
      "Polish zloty (zl)               1282\n",
      "Australian dollars (A$)          939\n",
      "Russian rubles (?)               849\n",
      "Brazilian reais (R$)             775\n",
      "Swedish kroner (SEK)             611\n",
      "Swiss francs                     594\n",
      "South African rands (R)          373\n",
      "Mexican pesos (MXN$)             338\n",
      "Japanese yen (¥)                 258\n",
      "Chinese yuan renminbi (¥)        248\n",
      "Singapore dollars (S$)           176\n",
      "Name: Currency, dtype: int64\n",
      "\n",
      "\n"
     ]
    }
   ],
   "source": [
    "non_euro_currency_countries = ['United Kingdom', 'Canada', 'United States', 'Brazil', 'India',\n",
    "                               'Poland', 'Sweden', 'Russian Federation', 'Switzerland', 'Japan',\n",
    "                               'Australia', 'Mexico', 'China', 'Singapore', 'South Africa']\n",
    "\n",
    "non_euro_currencies = ['British pounds sterling (£)', 'Canadian dollars (C$)',\n",
    "                       'U.S. dollars ($)', 'Brazilian reais (R$)', 'Indian rupees (?)', \n",
    "                       'Polish zloty (zl)', 'Swedish kroner (SEK)', 'Russian rubles (?)',\n",
    "                       'Swiss francs', 'Japanese yen (¥)', 'Australian dollars (A$)', \n",
    "                       'Mexican pesos (MXN$)', 'Chinese yuan renminbi (¥)', \n",
    "                       'Singapore dollars (S$)', 'South African rands (R)']\n",
    "\n",
    "for x,y in zip(non_euro_currency_countries, non_euro_currencies):\n",
    "    Filter_replace([x], y)\n",
    "\n",
    "Unique_values_list('Currency')"
   ]
  },
  {
   "cell_type": "markdown",
   "metadata": {},
   "source": [
    "### Remove symbols of currency from their names"
   ]
  },
  {
   "cell_type": "code",
   "execution_count": 72,
   "metadata": {
    "tags": []
   },
   "outputs": [
    {
     "name": "stdout",
     "output_type": "stream",
     "text": [
      "Number of unique values in 'Currency': 17            \n",
      "\n",
      "All unique values:\n",
      "U.S. dollars               12370\n",
      "Euros                      11707\n",
      "NaN                         7458\n",
      "Indian rupees               5055\n",
      "British pounds sterling     4375\n",
      "Canadian dollars            2203\n",
      "Polish zloty                1282\n",
      "Australian dollars           939\n",
      "Russian rubles               849\n",
      "Brazilian reais              775\n",
      "Swedish kroner               611\n",
      "Swiss francs                 594\n",
      "South African rands          373\n",
      "Mexican pesos                338\n",
      "Japanese yen                 258\n",
      "Chinese yuan renminbi        248\n",
      "Singapore dollars            176\n",
      "Name: Currency, dtype: int64\n",
      "\n",
      "\n"
     ]
    }
   ],
   "source": [
    "df_answers['Currency'] = df_answers['Currency'].replace(regex=r'\\s[^a-z]+$', value='')\n",
    "df_answers['Currency'] = df_answers['Currency'].replace('Polish zloty (zl)', 'Polish zloty')\n",
    "\n",
    "Unique_values_list('Currency')"
   ]
  },
  {
   "cell_type": "markdown",
   "metadata": {},
   "source": [
    "### We have got ~7500 missing values in 'Currency' column - there is no doubt that it is better than 28000 at the beginning,\n",
    "### but let's try build function which give us answer for the question:\n",
    "### *\"How many useful data from 'Salary' column we will lost if we delete all missing values from 'Currency' column\"?*"
   ]
  },
  {
   "cell_type": "code",
   "execution_count": 73,
   "metadata": {},
   "outputs": [
    {
     "name": "stdout",
     "output_type": "stream",
     "text": [
      "6.9% of useful data from 'Salary' column will be lost\n"
     ]
    }
   ],
   "source": [
    "def Percent_of_data_lost():\n",
    "    notnan_sal_before = df_answers['Salary'].notnull().sum()\n",
    "    _ = df_answers.query('Currency.isna() and Salary.notna()', engine=\"python\").index.tolist()\n",
    "    notnan_sal_after = len(_)\n",
    "    return print(f\"{100*(notnan_sal_after / notnan_sal_before):.1f}% of useful data from 'Salary' column will be lost\")\n",
    "\n",
    "Percent_of_data_lost()"
   ]
  },
  {
   "cell_type": "markdown",
   "metadata": {
    "tags": []
   },
   "source": [
    "### Not bad, but let's try harder - our temporary target for now is less than 3%."
   ]
  },
  {
   "cell_type": "code",
   "execution_count": 74,
   "metadata": {
    "tags": []
   },
   "outputs": [
    {
     "data": {
      "text/plain": [
       "48"
      ]
     },
     "execution_count": 74,
     "metadata": {},
     "output_type": "execute_result"
    }
   ],
   "source": [
    "len(set(df_answers['Country']) ^ (set(non_euro_currency_countries).union(set(euro_currency_countries))))"
   ]
  },
  {
   "cell_type": "code",
   "execution_count": 75,
   "metadata": {
    "tags": []
   },
   "outputs": [
    {
     "name": "stdout",
     "output_type": "stream",
     "text": [
      "Number of unique values in 'Currency': 17            \n",
      "\n",
      "All unique values:\n",
      "U.S. dollars               15439\n",
      "Euros                      11707\n",
      "Indian rupees               5055\n",
      "NaN                         4389\n",
      "British pounds sterling     4375\n",
      "Canadian dollars            2203\n",
      "Polish zloty                1282\n",
      "Australian dollars           939\n",
      "Russian rubles               849\n",
      "Brazilian reais              775\n",
      "Swedish kroner               611\n",
      "Swiss francs                 594\n",
      "South African rands          373\n",
      "Mexican pesos                338\n",
      "Japanese yen                 258\n",
      "Chinese yuan renminbi        248\n",
      "Singapore dollars            176\n",
      "Name: Currency, dtype: int64\n",
      "\n",
      "\n"
     ]
    }
   ],
   "source": [
    "countries_with_USD_payments = ['Israel', 'Pakistan', 'Lebanon', 'Saudi Arabia',\n",
    "                              'United Arab Emirates', 'Morocco', 'Afghanistan',\n",
    "                              'Serbia', 'Albania', 'Czech Republic', 'Ukraine',\n",
    "                              'Bosnia-Herzegovina', 'Belarus', 'Armenia',\n",
    "                              'Egypt', 'Kenya', 'Nigeria', 'Tunisia', 'Ghana',\n",
    "                              'New Zealand', 'South Korea', 'Malaysia']\n",
    "\n",
    "Filter_replace(countries_with_USD_payments, 'U.S. dollars')\n",
    "\n",
    "Unique_values_list('Currency')"
   ]
  },
  {
   "cell_type": "code",
   "execution_count": 76,
   "metadata": {},
   "outputs": [
    {
     "name": "stdout",
     "output_type": "stream",
     "text": [
      "3.9% of useful data from 'Salary' column will be lost\n"
     ]
    }
   ],
   "source": [
    "Percent_of_data_lost()"
   ]
  },
  {
   "cell_type": "markdown",
   "metadata": {},
   "source": [
    "### Almost 4% is good enough - now we can delete rows from 'Currency' column with missing data."
   ]
  },
  {
   "cell_type": "code",
   "execution_count": 77,
   "metadata": {
    "tags": []
   },
   "outputs": [
    {
     "name": "stdout",
     "output_type": "stream",
     "text": [
      "<class 'pandas.core.frame.DataFrame'>\n",
      "RangeIndex: 45222 entries, 0 to 45221\n",
      "Data columns (total 20 columns):\n",
      " #   Column              Non-Null Count  Dtype  \n",
      "---  ------              --------------  -----  \n",
      " 0   Professional        45222 non-null  object \n",
      " 1   ProgramHobby        45222 non-null  object \n",
      " 2   Country             45222 non-null  object \n",
      " 3   University          45222 non-null  object \n",
      " 4   EmploymentStatus    45222 non-null  object \n",
      " 5   FormalEducation     45222 non-null  object \n",
      " 6   MajorUndergrad      45222 non-null  object \n",
      " 7   HomeRemote          45222 non-null  object \n",
      " 8   CompanySize         45222 non-null  object \n",
      " 9   CompanyType         45222 non-null  object \n",
      " 10  YearsProgram        45222 non-null  object \n",
      " 11  YearsCodedJob       45222 non-null  object \n",
      " 12  CareerSatisfaction  45222 non-null  int8   \n",
      " 13  JobSatisfaction     45222 non-null  int8   \n",
      " 14  Gender              45222 non-null  object \n",
      " 15  Race                45222 non-null  object \n",
      " 16  DeveloperType       45222 non-null  object \n",
      " 17  HaveWorkedLanguage  45222 non-null  object \n",
      " 18  Currency            45222 non-null  object \n",
      " 19  Salary              12202 non-null  float64\n",
      "dtypes: float64(1), int8(2), object(17)\n",
      "memory usage: 6.3+ MB\n"
     ]
    }
   ],
   "source": [
    "df_answers = df_answers.dropna(how='all', subset=['Currency']).reset_index(drop=True)\n",
    "\n",
    "df_answers.info()"
   ]
  },
  {
   "cell_type": "markdown",
   "metadata": {},
   "source": [
    "### Now it is perfect!"
   ]
  },
  {
   "cell_type": "markdown",
   "metadata": {},
   "source": [
    "## Cleaning job is done - there is only final check of our dataset condition"
   ]
  },
  {
   "cell_type": "markdown",
   "metadata": {},
   "source": [
    "### Before we save result into new CSV file, take a look how different is our final dataset \n",
    "### when we compare it with dataset before making data analysis."
   ]
  },
  {
   "cell_type": "code",
   "execution_count": 78,
   "metadata": {
    "tags": []
   },
   "outputs": [
    {
     "name": "stdout",
     "output_type": "stream",
     "text": [
      "Number of unique values in 'Professional': 4\n",
      "Number of unique values in 'ProgramHobby': 2\n",
      "Number of unique values in 'Country': 80\n",
      "Number of unique values in 'University': 3\n",
      "Number of unique values in 'EmploymentStatus': 5\n",
      "Number of unique values in 'FormalEducation': 7\n",
      "Number of unique values in 'MajorUndergrad': 11\n",
      "Number of unique values in 'HomeRemote': 5\n",
      "Number of unique values in 'CompanySize': 8\n",
      "Number of unique values in 'CompanyType': 9\n",
      "Number of unique values in 'YearsProgram': 21\n",
      "Number of unique values in 'YearsCodedJob': 21\n",
      "Number of unique values in 'CareerSatisfaction': 11\n",
      "Number of unique values in 'JobSatisfaction': 11\n",
      "Number of unique values in 'Gender': 2\n",
      "Number of unique values in 'Race': 7\n",
      "Number of unique values in 'DeveloperType': 66\n",
      "Number of unique values in 'HaveWorkedLanguage': 176\n",
      "Number of unique values in 'Currency': 16\n",
      "Sum of all unique values in our columns are: 465\n",
      "Number of all possible unique values combinations in dataset are: 36948179128025088000 and it is more than 10**20\n",
      "\n",
      "\n",
      "27944086 times less unique data in the final DataFrame!!\n"
     ]
    }
   ],
   "source": [
    "def Efficient_of_data_cleaning_comparison():\n",
    "    # Dataframe_unique_values(df_answers) used first time\n",
    "    multiply_1 = unique_values_before[1]\n",
    "     # Dataframe_unique_values(df_answers) after cleaning\n",
    "    unique_values_after = Dataframe_unique_values(df_answers)\n",
    "    multiply_2 = unique_values_after[1]\n",
    "    print('\\n')\n",
    "    \n",
    "    return print(f'{(multiply_1 / multiply_2):.0f} times less unique data in the final DataFrame!!')\n",
    "\n",
    "Efficient_of_data_cleaning_comparison()"
   ]
  },
  {
   "cell_type": "markdown",
   "metadata": {},
   "source": [
    "### Save Dataframe into CSV file"
   ]
  },
  {
   "cell_type": "code",
   "execution_count": 79,
   "metadata": {},
   "outputs": [],
   "source": [
    "df_answers.to_csv('cleaned_df.csv', index = False)"
   ]
  }
 ],
 "metadata": {
  "kernelspec": {
   "display_name": "Python 3",
   "language": "python",
   "name": "python3"
  },
  "language_info": {
   "codemirror_mode": {
    "name": "ipython",
    "version": 3
   },
   "file_extension": ".py",
   "mimetype": "text/x-python",
   "name": "python",
   "nbconvert_exporter": "python",
   "pygments_lexer": "ipython3",
   "version": "3.8.8"
  }
 },
 "nbformat": 4,
 "nbformat_minor": 4
}
