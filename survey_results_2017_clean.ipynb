{
 "cells": [
  {
   "cell_type": "markdown",
   "metadata": {},
   "source": [
    "# The task is divided on 2 part:\n",
    "- ## compare how parameters like: *country*, *professional*, *education* (formal and non-formal), *IT skill* and *work experience* impact on salary, \n",
    "- ## predict future salary for people whose salary value in `'NaN'`.\n",
    "\n",
    "### Because schema has big number of different kind of questions (some of them are not connected with IT) not every columns are needed to make a job done."
   ]
  },
  {
   "cell_type": "code",
   "execution_count": 1,
   "metadata": {},
   "outputs": [],
   "source": [
    "import pandas as pd\n",
    "import numpy as np"
   ]
  },
  {
   "cell_type": "markdown",
   "metadata": {},
   "source": [
    "### Open new CSV file as ***'df_answers'***  DataFrame"
   ]
  },
  {
   "cell_type": "code",
   "execution_count": 2,
   "metadata": {
    "tags": []
   },
   "outputs": [
    {
     "data": {
      "text/html": [
       "<div>\n",
       "<style scoped>\n",
       "    .dataframe tbody tr th:only-of-type {\n",
       "        vertical-align: middle;\n",
       "    }\n",
       "\n",
       "    .dataframe tbody tr th {\n",
       "        vertical-align: top;\n",
       "    }\n",
       "\n",
       "    .dataframe thead th {\n",
       "        text-align: right;\n",
       "    }\n",
       "</style>\n",
       "<table border=\"1\" class=\"dataframe\">\n",
       "  <thead>\n",
       "    <tr style=\"text-align: right;\">\n",
       "      <th></th>\n",
       "      <th>Professional</th>\n",
       "      <th>ProgramHobby</th>\n",
       "      <th>Country</th>\n",
       "      <th>University</th>\n",
       "      <th>EmploymentStatus</th>\n",
       "      <th>FormalEducation</th>\n",
       "      <th>MajorUndergrad</th>\n",
       "      <th>HomeRemote</th>\n",
       "      <th>CompanySize</th>\n",
       "      <th>CompanyType</th>\n",
       "      <th>YearsProgram</th>\n",
       "      <th>YearsCodedJob</th>\n",
       "      <th>CareerSatisfaction</th>\n",
       "      <th>JobSatisfaction</th>\n",
       "      <th>Gender</th>\n",
       "      <th>Race</th>\n",
       "      <th>DeveloperType</th>\n",
       "      <th>HaveWorkedLanguage</th>\n",
       "      <th>Currency</th>\n",
       "      <th>Salary</th>\n",
       "    </tr>\n",
       "  </thead>\n",
       "  <tbody>\n",
       "    <tr>\n",
       "      <th>0</th>\n",
       "      <td>Student</td>\n",
       "      <td>Yes, both</td>\n",
       "      <td>United States</td>\n",
       "      <td>No</td>\n",
       "      <td>Not employed, and not looking for work</td>\n",
       "      <td>Secondary school</td>\n",
       "      <td>NaN</td>\n",
       "      <td>NaN</td>\n",
       "      <td>NaN</td>\n",
       "      <td>NaN</td>\n",
       "      <td>2 to 3 years</td>\n",
       "      <td>NaN</td>\n",
       "      <td>NaN</td>\n",
       "      <td>NaN</td>\n",
       "      <td>Male</td>\n",
       "      <td>White or of European descent</td>\n",
       "      <td>NaN</td>\n",
       "      <td>Swift</td>\n",
       "      <td>NaN</td>\n",
       "      <td>NaN</td>\n",
       "    </tr>\n",
       "    <tr>\n",
       "      <th>1</th>\n",
       "      <td>Student</td>\n",
       "      <td>Yes, both</td>\n",
       "      <td>United Kingdom</td>\n",
       "      <td>Yes, full-time</td>\n",
       "      <td>Employed part-time</td>\n",
       "      <td>Some college/university study without earning ...</td>\n",
       "      <td>Computer science or software engineering</td>\n",
       "      <td>More than half, but not all, the time</td>\n",
       "      <td>20 to 99 employees</td>\n",
       "      <td>Privately-held limited company, not in startup...</td>\n",
       "      <td>9 to 10 years</td>\n",
       "      <td>NaN</td>\n",
       "      <td>NaN</td>\n",
       "      <td>NaN</td>\n",
       "      <td>Male</td>\n",
       "      <td>White or of European descent</td>\n",
       "      <td>NaN</td>\n",
       "      <td>JavaScript; Python; Ruby; SQL</td>\n",
       "      <td>British pounds sterling (£)</td>\n",
       "      <td>NaN</td>\n",
       "    </tr>\n",
       "    <tr>\n",
       "      <th>2</th>\n",
       "      <td>Professional developer</td>\n",
       "      <td>Yes, both</td>\n",
       "      <td>United Kingdom</td>\n",
       "      <td>No</td>\n",
       "      <td>Employed full-time</td>\n",
       "      <td>Bachelor's degree</td>\n",
       "      <td>Computer science or software engineering</td>\n",
       "      <td>Less than half the time, but at least one day ...</td>\n",
       "      <td>10,000 or more employees</td>\n",
       "      <td>Publicly-traded corporation</td>\n",
       "      <td>20 or more years</td>\n",
       "      <td>20 or more years</td>\n",
       "      <td>8.0</td>\n",
       "      <td>9.0</td>\n",
       "      <td>Male</td>\n",
       "      <td>White or of European descent</td>\n",
       "      <td>Other</td>\n",
       "      <td>Java; PHP; Python</td>\n",
       "      <td>British pounds sterling (£)</td>\n",
       "      <td>113750.0</td>\n",
       "    </tr>\n",
       "    <tr>\n",
       "      <th>3</th>\n",
       "      <td>Professional non-developer who sometimes write...</td>\n",
       "      <td>Yes, both</td>\n",
       "      <td>United States</td>\n",
       "      <td>No</td>\n",
       "      <td>Employed full-time</td>\n",
       "      <td>Doctoral degree</td>\n",
       "      <td>A non-computer-focused engineering discipline</td>\n",
       "      <td>Less than half the time, but at least one day ...</td>\n",
       "      <td>10,000 or more employees</td>\n",
       "      <td>Non-profit/non-governmental organization or pr...</td>\n",
       "      <td>14 to 15 years</td>\n",
       "      <td>9 to 10 years</td>\n",
       "      <td>6.0</td>\n",
       "      <td>3.0</td>\n",
       "      <td>Male</td>\n",
       "      <td>White or of European descent</td>\n",
       "      <td>NaN</td>\n",
       "      <td>Matlab; Python; R; SQL</td>\n",
       "      <td>NaN</td>\n",
       "      <td>NaN</td>\n",
       "    </tr>\n",
       "    <tr>\n",
       "      <th>4</th>\n",
       "      <td>Professional developer</td>\n",
       "      <td>Yes, I program as a hobby</td>\n",
       "      <td>Switzerland</td>\n",
       "      <td>No</td>\n",
       "      <td>Employed full-time</td>\n",
       "      <td>Master's degree</td>\n",
       "      <td>Computer science or software engineering</td>\n",
       "      <td>Never</td>\n",
       "      <td>10 to 19 employees</td>\n",
       "      <td>Privately-held limited company, not in startup...</td>\n",
       "      <td>20 or more years</td>\n",
       "      <td>10 to 11 years</td>\n",
       "      <td>6.0</td>\n",
       "      <td>8.0</td>\n",
       "      <td>NaN</td>\n",
       "      <td>NaN</td>\n",
       "      <td>Mobile developer; Graphics programming; Deskto...</td>\n",
       "      <td>NaN</td>\n",
       "      <td>NaN</td>\n",
       "      <td>NaN</td>\n",
       "    </tr>\n",
       "  </tbody>\n",
       "</table>\n",
       "</div>"
      ],
      "text/plain": [
       "                                        Professional  \\\n",
       "0                                            Student   \n",
       "1                                            Student   \n",
       "2                             Professional developer   \n",
       "3  Professional non-developer who sometimes write...   \n",
       "4                             Professional developer   \n",
       "\n",
       "                ProgramHobby         Country      University  \\\n",
       "0                  Yes, both   United States              No   \n",
       "1                  Yes, both  United Kingdom  Yes, full-time   \n",
       "2                  Yes, both  United Kingdom              No   \n",
       "3                  Yes, both   United States              No   \n",
       "4  Yes, I program as a hobby     Switzerland              No   \n",
       "\n",
       "                         EmploymentStatus  \\\n",
       "0  Not employed, and not looking for work   \n",
       "1                      Employed part-time   \n",
       "2                      Employed full-time   \n",
       "3                      Employed full-time   \n",
       "4                      Employed full-time   \n",
       "\n",
       "                                     FormalEducation  \\\n",
       "0                                   Secondary school   \n",
       "1  Some college/university study without earning ...   \n",
       "2                                  Bachelor's degree   \n",
       "3                                    Doctoral degree   \n",
       "4                                    Master's degree   \n",
       "\n",
       "                                  MajorUndergrad  \\\n",
       "0                                            NaN   \n",
       "1       Computer science or software engineering   \n",
       "2       Computer science or software engineering   \n",
       "3  A non-computer-focused engineering discipline   \n",
       "4       Computer science or software engineering   \n",
       "\n",
       "                                          HomeRemote  \\\n",
       "0                                                NaN   \n",
       "1              More than half, but not all, the time   \n",
       "2  Less than half the time, but at least one day ...   \n",
       "3  Less than half the time, but at least one day ...   \n",
       "4                                              Never   \n",
       "\n",
       "                CompanySize  \\\n",
       "0                       NaN   \n",
       "1        20 to 99 employees   \n",
       "2  10,000 or more employees   \n",
       "3  10,000 or more employees   \n",
       "4        10 to 19 employees   \n",
       "\n",
       "                                         CompanyType      YearsProgram  \\\n",
       "0                                                NaN      2 to 3 years   \n",
       "1  Privately-held limited company, not in startup...     9 to 10 years   \n",
       "2                        Publicly-traded corporation  20 or more years   \n",
       "3  Non-profit/non-governmental organization or pr...    14 to 15 years   \n",
       "4  Privately-held limited company, not in startup...  20 or more years   \n",
       "\n",
       "      YearsCodedJob  CareerSatisfaction  JobSatisfaction Gender  \\\n",
       "0               NaN                 NaN              NaN   Male   \n",
       "1               NaN                 NaN              NaN   Male   \n",
       "2  20 or more years                 8.0              9.0   Male   \n",
       "3     9 to 10 years                 6.0              3.0   Male   \n",
       "4    10 to 11 years                 6.0              8.0    NaN   \n",
       "\n",
       "                           Race  \\\n",
       "0  White or of European descent   \n",
       "1  White or of European descent   \n",
       "2  White or of European descent   \n",
       "3  White or of European descent   \n",
       "4                           NaN   \n",
       "\n",
       "                                       DeveloperType  \\\n",
       "0                                                NaN   \n",
       "1                                                NaN   \n",
       "2                                              Other   \n",
       "3                                                NaN   \n",
       "4  Mobile developer; Graphics programming; Deskto...   \n",
       "\n",
       "              HaveWorkedLanguage                     Currency    Salary  \n",
       "0                          Swift                          NaN       NaN  \n",
       "1  JavaScript; Python; Ruby; SQL  British pounds sterling (£)       NaN  \n",
       "2              Java; PHP; Python  British pounds sterling (£)  113750.0  \n",
       "3         Matlab; Python; R; SQL                          NaN       NaN  \n",
       "4                            NaN                          NaN       NaN  "
      ]
     },
     "execution_count": 2,
     "metadata": {},
     "output_type": "execute_result"
    }
   ],
   "source": [
    "df_answers = pd.read_csv('survey_results_public_clean.csv', index_col = False)\n",
    "df_answers.head()"
   ]
  },
  {
   "cell_type": "code",
   "execution_count": 3,
   "metadata": {
    "scrolled": true,
    "tags": []
   },
   "outputs": [
    {
     "name": "stdout",
     "output_type": "stream",
     "text": [
      "<class 'pandas.core.frame.DataFrame'>\n",
      "RangeIndex: 51392 entries, 0 to 51391\n",
      "Data columns (total 20 columns):\n",
      " #   Column              Non-Null Count  Dtype  \n",
      "---  ------              --------------  -----  \n",
      " 0   Professional        51392 non-null  object \n",
      " 1   ProgramHobby        51392 non-null  object \n",
      " 2   Country             51392 non-null  object \n",
      " 3   University          51392 non-null  object \n",
      " 4   EmploymentStatus    51392 non-null  object \n",
      " 5   FormalEducation     51392 non-null  object \n",
      " 6   MajorUndergrad      42841 non-null  object \n",
      " 7   HomeRemote          44008 non-null  object \n",
      " 8   CompanySize         38922 non-null  object \n",
      " 9   CompanyType         38823 non-null  object \n",
      " 10  YearsProgram        51145 non-null  object \n",
      " 11  YearsCodedJob       40890 non-null  object \n",
      " 12  CareerSatisfaction  42695 non-null  float64\n",
      " 13  JobSatisfaction     40376 non-null  float64\n",
      " 14  Gender              35047 non-null  object \n",
      " 15  Race                33033 non-null  object \n",
      " 16  DeveloperType       36125 non-null  object \n",
      " 17  HaveWorkedLanguage  36625 non-null  object \n",
      " 18  Currency            21408 non-null  object \n",
      " 19  Salary              12891 non-null  float64\n",
      "dtypes: float64(3), object(17)\n",
      "memory usage: 7.8+ MB\n"
     ]
    }
   ],
   "source": [
    "## Info about our new dataset\n",
    "df_answers.info()"
   ]
  },
  {
   "cell_type": "markdown",
   "metadata": {},
   "source": [
    "***"
   ]
  },
  {
   "cell_type": "markdown",
   "metadata": {},
   "source": [
    "### Let's check how many unique values are in every columns (exclude 'Salary')"
   ]
  },
  {
   "cell_type": "markdown",
   "metadata": {},
   "source": [
    "### List of all unique values in columns"
   ]
  },
  {
   "cell_type": "code",
   "execution_count": 4,
   "metadata": {},
   "outputs": [
    {
     "name": "stdout",
     "output_type": "stream",
     "text": [
      "Number of unique values in 'Professional': 5\n",
      "Number of unique values in 'ProgramHobby': 4\n",
      "Number of unique values in 'Country': 201\n",
      "Number of unique values in 'University': 4\n",
      "Number of unique values in 'EmploymentStatus': 7\n",
      "Number of unique values in 'FormalEducation': 9\n",
      "Number of unique values in 'MajorUndergrad': 17\n",
      "Number of unique values in 'HomeRemote': 8\n",
      "Number of unique values in 'CompanySize': 11\n",
      "Number of unique values in 'CompanyType': 12\n",
      "Number of unique values in 'YearsProgram': 22\n",
      "Number of unique values in 'YearsCodedJob': 22\n",
      "Number of unique values in 'CareerSatisfaction': 12\n",
      "Number of unique values in 'JobSatisfaction': 12\n",
      "Number of unique values in 'Gender': 30\n",
      "Number of unique values in 'Race': 98\n",
      "Number of unique values in 'DeveloperType': 1824\n",
      "Number of unique values in 'HaveWorkedLanguage': 8439\n",
      "Number of unique values in 'Currency': 18\n",
      "\n",
      "\n",
      "Sum of all unique values in our columns are: 10755\n",
      "Number of all possible unique values combinations in dataset are: 1032483080631747751811481600 and it is more than 10**27\n"
     ]
    }
   ],
   "source": [
    "def Dataframe_unique_values(df):\n",
    "    # Default values for calculations\n",
    "    multiply, summary = 1, 0\n",
    "    ## Exclude 'Salary' from DataFrame\n",
    "    new_df = df.drop('Salary', axis=1)\n",
    "    for val in new_df.columns:\n",
    "        unique_num = len(new_df[val].unique())\n",
    "        print(f\"Number of unique values in '{val}': {unique_num}\")\n",
    "        multiply *= unique_num\n",
    "        summary += unique_num\n",
    "    print('\\n')\n",
    "    print(f'Sum of all unique values in our columns are: {summary}')\n",
    "    print(f'Number of all possible unique values combinations in dataset are: {multiply} and it is more than 10**{np.log10(float(multiply)):.0f}')\n",
    "    return summary, multiply\n",
    "\n",
    "unique_values_before = Dataframe_unique_values(df_answers)"
   ]
  },
  {
   "cell_type": "markdown",
   "metadata": {},
   "source": [
    "## We have got a big mess, so we must reduce the number of unique values as far as we can - in the order show by the column names."
   ]
  },
  {
   "cell_type": "markdown",
   "metadata": {
    "tags": []
   },
   "source": [
    "### Columns will be checking in the order below:\n",
    "1) 'Country'\n",
    "2) 'Professional', 'ProgramHobby', 'University', 'EmploymentStatus', 'FormalEducation'\n",
    "3) 'MajorUndergrad', 'HomeRemote'\n",
    "4) 'CompanySize', 'CompanyType'\n",
    "5) 'YearsProgram', 'YearsCodedJob'\n",
    "6) 'CareerSatisfaction', 'JobSatisfaction'\n",
    "7) 'Gender'\n",
    "8) 'Race'\n",
    "9) 'DeveloperType'\n",
    "10) 'HaveWorkedLanguage'\n",
    "11) 'Currency'"
   ]
  },
  {
   "cell_type": "markdown",
   "metadata": {},
   "source": [
    "### List of unique values in columns"
   ]
  },
  {
   "cell_type": "code",
   "execution_count": 5,
   "metadata": {},
   "outputs": [],
   "source": [
    "def Unique_values(col):\n",
    "    return df_answers[col].unique()\n",
    "\n",
    "def Unique_values_list(*cols):\n",
    "    limit = 25 ## Some columns have too many unique values to print them on the screen at once\n",
    "    cols_list = list(cols)\n",
    "    \n",
    "    for _ in cols_list:\n",
    "        col_unique_names = df_answers[_].value_counts(dropna=False)\n",
    "        unique_numbers = len(col_unique_names)\n",
    "    \n",
    "        if unique_numbers > limit:\n",
    "            print(f\"Number of unique values in '{_}': {unique_numbers}\\\n",
    "            \\nFirst {limit} unique values:\\n{col_unique_names[:limit]}\\n\\n\")\n",
    "        else:\n",
    "            print(f\"Number of unique values in '{_}': {unique_numbers}\\\n",
    "            \\nAll unique values:\\n{col_unique_names}\\n\\n\")"
   ]
  },
  {
   "cell_type": "markdown",
   "metadata": {},
   "source": [
    "#### **1) 'Country'**"
   ]
  },
  {
   "cell_type": "code",
   "execution_count": 6,
   "metadata": {
    "tags": []
   },
   "outputs": [
    {
     "name": "stdout",
     "output_type": "stream",
     "text": [
      "Number of unique values in 'Country': 201            \n",
      "First 25 unique values:\n",
      "United States         11455\n",
      "India                  5197\n",
      "United Kingdom         4395\n",
      "Germany                4143\n",
      "Canada                 2233\n",
      "France                 1740\n",
      "Poland                 1290\n",
      "Australia               913\n",
      "Russian Federation      873\n",
      "Spain                   864\n",
      "Netherlands             855\n",
      "Italy                   781\n",
      "Brazil                  777\n",
      "Sweden                  611\n",
      "Switzerland             595\n",
      "Israel                  575\n",
      "Romania                 561\n",
      "Iran                    507\n",
      "Austria                 477\n",
      "Pakistan                454\n",
      "Czech Republic          411\n",
      "Belgium                 404\n",
      "South Africa            380\n",
      "Turkey                  363\n",
      "Ukraine                 356\n",
      "Name: Country, dtype: int64\n",
      "\n",
      "\n"
     ]
    }
   ],
   "source": [
    "Unique_values_list('Country')"
   ]
  },
  {
   "cell_type": "markdown",
   "metadata": {},
   "source": [
    "#### Because many world countries' in this Series are probably the minority (small number of responders),\n",
    "#### we will take countries with at least 50 representants - that is the simplest method of detection and removing outliers."
   ]
  },
  {
   "cell_type": "code",
   "execution_count": 7,
   "metadata": {
    "scrolled": true
   },
   "outputs": [
    {
     "name": "stdout",
     "output_type": "stream",
     "text": [
      "Number of the filtered countries: 81\n",
      "\n",
      "Names of the filtered countries: \n",
      "['United States' 'United Kingdom' 'Switzerland' 'New Zealand' 'Poland'\n",
      " 'Colombia' 'France' 'Canada' 'Germany' 'Greece' 'Brazil' 'Israel' 'Italy'\n",
      " 'Belgium' 'India' 'Chile' 'Croatia' 'Argentina' 'Netherlands' 'Denmark'\n",
      " 'Ukraine' 'Sri Lanka' 'Malaysia' 'Finland' 'Turkey' 'Spain' 'Austria'\n",
      " 'Mexico' 'Russian Federation' 'Bulgaria' 'Uruguay' 'Estonia' 'Iran'\n",
      " 'Bangladesh' 'Sweden' 'Lithuania' 'Romania' 'Costa Rica' 'Serbia'\n",
      " 'Slovenia' 'United Arab Emirates' 'Tunisia' 'Kenya' 'Norway'\n",
      " 'Dominican Republic' 'Belarus' 'Portugal' 'Czech Republic' 'Albania'\n",
      " 'I prefer not to say' 'South Africa' 'Moldavia' 'Ireland' 'Nepal'\n",
      " 'Pakistan' 'Slovak Republic' 'Hungary' 'Egypt' 'Australia' 'Japan'\n",
      " 'South Korea' 'Vietnam' 'Saudi Arabia' 'Macedonia' 'Bosnia-Herzegovina'\n",
      " 'Indonesia' 'Nigeria' 'Peru' 'Morocco' 'Armenia' 'Lebanon' 'China'\n",
      " 'Latvia' 'Singapore' 'Thailand' 'Philippines' 'Hong Kong' 'Taiwan'\n",
      " 'Afghanistan' 'Ghana' 'Venezuela']\n"
     ]
    }
   ],
   "source": [
    "countries_names = df_answers.groupby('Country').filter(lambda x: len(x) >= 50)['Country'].unique()\n",
    "\n",
    "print(f\"Number of the filtered countries: {len(countries_names)}\\n\")\n",
    "print(f\"Names of the filtered countries: \\n{countries_names}\")"
   ]
  },
  {
   "cell_type": "markdown",
   "metadata": {},
   "source": [
    "#### After making simple filtering we limit our countries to 81 positions (it is only 40% of total),\n",
    "#### but we can also remove 'I prefer not to say' value which is useless and that will be made in the next step."
   ]
  },
  {
   "cell_type": "code",
   "execution_count": 8,
   "metadata": {
    "tags": []
   },
   "outputs": [
    {
     "name": "stdout",
     "output_type": "stream",
     "text": [
      "<class 'pandas.core.frame.DataFrame'>\n",
      "RangeIndex: 50048 entries, 0 to 50047\n",
      "Data columns (total 20 columns):\n",
      " #   Column              Non-Null Count  Dtype  \n",
      "---  ------              --------------  -----  \n",
      " 0   Professional        50048 non-null  object \n",
      " 1   ProgramHobby        50048 non-null  object \n",
      " 2   Country             50048 non-null  object \n",
      " 3   University          50048 non-null  object \n",
      " 4   EmploymentStatus    50048 non-null  object \n",
      " 5   FormalEducation     50048 non-null  object \n",
      " 6   MajorUndergrad      41807 non-null  object \n",
      " 7   HomeRemote          43004 non-null  object \n",
      " 8   CompanySize         38109 non-null  object \n",
      " 9   CompanyType         38015 non-null  object \n",
      " 10  YearsProgram        49825 non-null  object \n",
      " 11  YearsCodedJob       39961 non-null  object \n",
      " 12  CareerSatisfaction  41691 non-null  float64\n",
      " 13  JobSatisfaction     39500 non-null  float64\n",
      " 14  Gender              34324 non-null  object \n",
      " 15  Race                32380 non-null  object \n",
      " 16  DeveloperType       35363 non-null  object \n",
      " 17  HaveWorkedLanguage  35846 non-null  object \n",
      " 18  Currency            21079 non-null  object \n",
      " 19  Salary              12759 non-null  float64\n",
      "dtypes: float64(3), object(17)\n",
      "memory usage: 7.6+ MB\n"
     ]
    }
   ],
   "source": [
    "df_answers = df_answers[(df_answers['Country'].isin(countries_names)) & \n",
    "                        (~df_answers['Country'].isin(['I prefer not to say']))].reset_index(drop=True)\n",
    "df_answers.info()"
   ]
  }
 ],
 "metadata": {
  "kernelspec": {
   "display_name": "Python 3",
   "language": "python",
   "name": "python3"
  },
  "language_info": {
   "codemirror_mode": {
    "name": "ipython",
    "version": 3
   },
   "file_extension": ".py",
   "mimetype": "text/x-python",
   "name": "python",
   "nbconvert_exporter": "python",
   "pygments_lexer": "ipython3",
   "version": "3.8.8"
  }
 },
 "nbformat": 4,
 "nbformat_minor": 4
}
